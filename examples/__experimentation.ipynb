{
 "cells": [
  {
   "cell_type": "code",
   "execution_count": null,
   "metadata": {},
   "outputs": [],
   "source": []
  },
  {
   "cell_type": "code",
   "execution_count": null,
   "metadata": {},
   "outputs": [],
   "source": [
    "class Experimentation(object):\n",
    "    def __init__(self, configuration__, mode, variables, features_conf, regression_alg):\n",
    "        self.configuration__ = configuration__\n",
    "        self.variables = variables\n",
    "        self.features_conf = features_conf\n",
    "        self.regression_alg = regression_alg\n",
    "        \n",
    "        # declaring Bee\n",
    "        self.geography = sb.Geography(configuration__, mode)\n",
    "        self.sensors = sb.Sensors(configuration__, mode, path=configuration__['DATA_FOLDER'], delimit_geography=geography)\n",
    "        self.features = sb.Features(configuration__, mode, Sensors=sensors, Geography=geography)\n",
    "        \n",
    "    def initiate(self, iterations, label):\n",
    "        features = ['dow','day','week']\n",
    "        \n",
    "        self.scoring_dict = {}\n",
    "        for var in variables:\n",
    "            self.scoring_dict[var] = {}\n",
    "            for fc in features_conf:\n",
    "                self.scoring_dict[var][fc] = {}\n",
    "                for ra in regression_alg:\n",
    "                    \n",
    "                    f = features.get_train_features(var)\n",
    "                    if 'p' in fc:\n",
    "                        features += var\n",
    "                    if 'u' in fc:\n",
    "                        features += configuration__['osm_line_objs']+configuration__['osm_point_objs']\n",
    "                    if 's' in fc:\n",
    "                        features += [x from x in configuration__['Sensors__variables'] if x!= var]\n",
    "                    if 'd' in fc:\n",
    "                        features += ['Index of Multiple Deprivation (IMD) Score', 'Income Score (rate)',\n",
    "                                       'Employment Score (rate)', 'Education, Skills and Training Score',\n",
    "                                       'Crime Score', 'Barriers to Housing and Services Score',\n",
    "                                       'Living Environment Score',\n",
    "                                       'Total population: mid 2012 (excluding prisoners)',\n",
    "                                       'Population aged 16-59: mid 2012 (excluding prisoners)']\n",
    "                    f = f['X'][features]\n",
    "                    \n",
    "                    if ra == 'rf':\n",
    "                        regressor = RandomForestRegressor(n_estimators=200, max_depth=5, max_features=1)\n",
    "                    elif ra == 'gb':\n",
    "                        regressor = GradienBoostingRegressor(n_estimators=200, max_depth=5, max_features=1)\n",
    "                    \n",
    "                    r2,mse = [],[]\n",
    "                    for i in range(1,iterations):\n",
    "                        m = sb.Model(regressor).fit(f['X'], f['y'])\n",
    "                        r2.append(m.r2)\n",
    "                        mse.append(m.mse)\n",
    "                    self.scoring_dict[var][fc][ra] = {'r2':np.mean(r2),'r2_std':np.std(r2),\n",
    "                                                 'mse:'np.mean(mse),'mse:std':np.std(mse)}\n",
    "                    print('[{} - {} - {}] r2: {} ~ std: {}'.format(var, fc, ra, np.mean(r2), np.std(r2)))\n",
    "        return self\n",
    "                        \n",
    "                    \n",
    "                \n",
    "        "
   ]
  },
  {
   "cell_type": "code",
   "execution_count": 8,
   "metadata": {},
   "outputs": [],
   "source": [
    "configuration__ = {\n",
    "    'DATA_FOLDER':'/home/adelsondias/Repos/newcastle/air-quality/data_1week1/',\n",
    "    'SHAPE_PATH':'/home/adelsondias/Repos/newcastle/air-quality/shape/Middle_Layer_Super_Output_Areas_December_2011_Full_Extent_Boundaries_in_England_and_Wales/Middle_Layer_Super_Output_Areas_December_2011_Full_Extent_Boundaries_in_England_and_Wales.shp',\n",
    "    'Sensors__frequency':'D',\n",
    "    'Sensors__variables': ['NO2','Temperature','PM2.5'],\n",
    "    'Sensors__threshold_callibration': {'Temperature':25, 'NO2':80, 'PM2.5':15},\n",
    "    'Geography__filter_column':'msoa11nm',\n",
    "    'Geography__filter_label':'Newcastle upon Tyne',\n",
    "    'Geography__meshgrid':{'dimensions':[50,50], 'longitude_range':[-1.8, -1.51], 'latitude_range':[54.96, 55.05]},\n",
    "    'osm_bbox': '(54.96,-1.8,55.05,-1.51)',\n",
    "    'osm_line_objs': ['primary','trunk','motorway','residential'],\n",
    "    'osm_point_objs': ['traffic_signals','crossing']\n",
    "}"
   ]
  }
 ],
 "metadata": {
  "kernelspec": {
   "display_name": "Python 3",
   "language": "python",
   "name": "python3"
  },
  "language_info": {
   "codemirror_mode": {
    "name": "ipython",
    "version": 3
   },
   "file_extension": ".py",
   "mimetype": "text/x-python",
   "name": "python",
   "nbconvert_exporter": "python",
   "pygments_lexer": "ipython3",
   "version": "3.6.5"
  }
 },
 "nbformat": 4,
 "nbformat_minor": 2
}
