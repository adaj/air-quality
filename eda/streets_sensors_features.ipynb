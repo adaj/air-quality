{
 "cells": [
  {
   "cell_type": "code",
   "execution_count": 1,
   "metadata": {},
   "outputs": [],
   "source": [
    "import pandas as pd\n",
    "import matplotlib.pyplot as plt\n",
    "\n",
    "import shapely\n",
    "import fiona\n",
    "import geopandas as gpd"
   ]
  },
  {
   "cell_type": "code",
   "execution_count": 2,
   "metadata": {},
   "outputs": [],
   "source": [
    "STREET_SHAPE_FOLDER = '/home/adelsondias/Downloads/newcastle_streets/'\n",
    "LSOA_SHAPE_FOLDER = '/home/adelsondias/Repos/newcastle/air-quality/shape/Middle_Layer_Super_Output_Areas_December_2011_Full_Extent_Boundaries_in_England_and_Wales/'\n",
    "DATA_FOLDER = '/home/adelsondias/Repos/newcastle/air-quality/data_7days/'"
   ]
  },
  {
   "cell_type": "markdown",
   "metadata": {},
   "source": [
    "## Street shape"
   ]
  },
  {
   "cell_type": "code",
   "execution_count": 3,
   "metadata": {},
   "outputs": [],
   "source": [
    "lines = gpd.read_file(STREET_SHAPE_FOLDER+'newcastle_streets.shp')\n",
    "points = gpd.read_file(STREET_SHAPE_FOLDER+'newcastle_points.shp')"
   ]
  },
  {
   "cell_type": "code",
   "execution_count": 4,
   "metadata": {},
   "outputs": [
    {
     "data": {
      "text/plain": [
       "residential    7608\n",
       "service        4673\n",
       "footway        4599\n",
       "tertiary        620\n",
       "primary         565\n",
       "Name: highway, dtype: int64"
      ]
     },
     "execution_count": 4,
     "metadata": {},
     "output_type": "execute_result"
    }
   ],
   "source": [
    "lines = lines[(lines['highway']!='') & (lines['highway']!='unclassified')]\n",
    "lines['highway'].value_counts()[:5]"
   ]
  },
  {
   "cell_type": "code",
   "execution_count": 5,
   "metadata": {},
   "outputs": [
    {
     "data": {
      "text/plain": [
       "bus_stop           2330\n",
       "traffic_signals     411\n",
       "crossing            328\n",
       "turning_circle      169\n",
       "mini_roundabout     143\n",
       "Name: highway, dtype: int64"
      ]
     },
     "execution_count": 5,
     "metadata": {},
     "output_type": "execute_result"
    }
   ],
   "source": [
    "points = points[points['highway']!='']\n",
    "points['highway'].value_counts()[:5]"
   ]
  },
  {
   "cell_type": "markdown",
   "metadata": {},
   "source": [
    "## LSOA shape"
   ]
  },
  {
   "cell_type": "code",
   "execution_count": 6,
   "metadata": {},
   "outputs": [],
   "source": [
    "lsoa = gpd.read_file(LSOA_SHAPE_FOLDER+'Middle_Layer_Super_Output_Areas_December_2011_Full_Extent_Boundaries_in_England_and_Wales.shp')\n",
    "lsoa = lsoa[lsoa['msoa11nm'].str.contains('Newcastle upon Tyne')]\n",
    "lsoa = lsoa.to_crs(fiona.crs.from_epsg(4326))\n",
    "lsoa.crs = {'init': 'epsg:4326', 'no_defs': True}"
   ]
  },
  {
   "cell_type": "markdown",
   "metadata": {},
   "source": [
    "Filtering lines and points within LSOA of Newcastle Upon Tyne"
   ]
  },
  {
   "cell_type": "code",
   "execution_count": 7,
   "metadata": {},
   "outputs": [
    {
     "name": "stdout",
     "output_type": "stream",
     "text": [
      "Warning: CRS does not match!\n",
      "Warning: CRS does not match!\n"
     ]
    }
   ],
   "source": [
    "lines = gpd.sjoin(lines, lsoa, how='inner' ,op='intersects')[lines.columns]\n",
    "points = gpd.sjoin(points, lsoa, how='inner' ,op='intersects')[points.columns]"
   ]
  },
  {
   "cell_type": "markdown",
   "metadata": {},
   "source": [
    "## Sensors data"
   ]
  },
  {
   "cell_type": "code",
   "execution_count": 8,
   "metadata": {},
   "outputs": [
    {
     "name": "stdout",
     "output_type": "stream",
     "text": [
      "(147, 5)\n"
     ]
    },
    {
     "data": {
      "text/html": [
       "<div>\n",
       "<style scoped>\n",
       "    .dataframe tbody tr th:only-of-type {\n",
       "        vertical-align: middle;\n",
       "    }\n",
       "\n",
       "    .dataframe tbody tr th {\n",
       "        vertical-align: top;\n",
       "    }\n",
       "\n",
       "    .dataframe thead th {\n",
       "        text-align: right;\n",
       "    }\n",
       "</style>\n",
       "<table border=\"1\" class=\"dataframe\">\n",
       "  <thead>\n",
       "    <tr style=\"text-align: right;\">\n",
       "      <th></th>\n",
       "      <th>type</th>\n",
       "      <th>active</th>\n",
       "      <th>lon</th>\n",
       "      <th>lat</th>\n",
       "      <th>geometry</th>\n",
       "    </tr>\n",
       "    <tr>\n",
       "      <th>name</th>\n",
       "      <th></th>\n",
       "      <th></th>\n",
       "      <th></th>\n",
       "      <th></th>\n",
       "      <th></th>\n",
       "    </tr>\n",
       "  </thead>\n",
       "  <tbody>\n",
       "    <tr>\n",
       "      <th>CAJT_NCA186_WR1_WR2</th>\n",
       "      <td>Traffic</td>\n",
       "      <td>True</td>\n",
       "      <td>-1.632646</td>\n",
       "      <td>54.972302</td>\n",
       "      <td>POINT (-1.63264593718199 54.97230231629401)</td>\n",
       "    </tr>\n",
       "    <tr>\n",
       "      <th>CAJT_NCA186_WR2_WR1</th>\n",
       "      <td>Traffic</td>\n",
       "      <td>True</td>\n",
       "      <td>-1.632801</td>\n",
       "      <td>54.972415</td>\n",
       "      <td>POINT (-1.63280112824739 54.97241510275539)</td>\n",
       "    </tr>\n",
       "    <tr>\n",
       "      <th>BMS_Armstrong.Armstrong;KRBlrOATTrndOATTCast (OAT Castle Leazes Trend_MOM)</th>\n",
       "      <td>Environmental</td>\n",
       "      <td>True</td>\n",
       "      <td>-1.629100</td>\n",
       "      <td>54.980600</td>\n",
       "      <td>POINT (-1.6291 54.9806)</td>\n",
       "    </tr>\n",
       "    <tr>\n",
       "      <th>CAJT_NCA186_WR2_WR1_BUS</th>\n",
       "      <td>Traffic</td>\n",
       "      <td>True</td>\n",
       "      <td>-1.632801</td>\n",
       "      <td>54.972415</td>\n",
       "      <td>POINT (-1.63280112824739 54.97241510275539)</td>\n",
       "    </tr>\n",
       "    <tr>\n",
       "      <th>CAJT_NCA186_WR1_WR2_BUS</th>\n",
       "      <td>Traffic</td>\n",
       "      <td>True</td>\n",
       "      <td>-1.632646</td>\n",
       "      <td>54.972302</td>\n",
       "      <td>POINT (-1.63264593718199 54.97230231629401)</td>\n",
       "    </tr>\n",
       "  </tbody>\n",
       "</table>\n",
       "</div>"
      ],
      "text/plain": [
       "                                                             type  active  \\\n",
       "name                                                                        \n",
       "CAJT_NCA186_WR1_WR2                                       Traffic    True   \n",
       "CAJT_NCA186_WR2_WR1                                       Traffic    True   \n",
       "BMS_Armstrong.Armstrong;KRBlrOATTrndOATTCast (O...  Environmental    True   \n",
       "CAJT_NCA186_WR2_WR1_BUS                                   Traffic    True   \n",
       "CAJT_NCA186_WR1_WR2_BUS                                   Traffic    True   \n",
       "\n",
       "                                                         lon        lat  \\\n",
       "name                                                                      \n",
       "CAJT_NCA186_WR1_WR2                                -1.632646  54.972302   \n",
       "CAJT_NCA186_WR2_WR1                                -1.632801  54.972415   \n",
       "BMS_Armstrong.Armstrong;KRBlrOATTrndOATTCast (O... -1.629100  54.980600   \n",
       "CAJT_NCA186_WR2_WR1_BUS                            -1.632801  54.972415   \n",
       "CAJT_NCA186_WR1_WR2_BUS                            -1.632646  54.972302   \n",
       "\n",
       "                                                                                       geometry  \n",
       "name                                                                                             \n",
       "CAJT_NCA186_WR1_WR2                                 POINT (-1.63264593718199 54.97230231629401)  \n",
       "CAJT_NCA186_WR2_WR1                                 POINT (-1.63280112824739 54.97241510275539)  \n",
       "BMS_Armstrong.Armstrong;KRBlrOATTrndOATTCast (O...                      POINT (-1.6291 54.9806)  \n",
       "CAJT_NCA186_WR2_WR1_BUS                             POINT (-1.63280112824739 54.97241510275539)  \n",
       "CAJT_NCA186_WR1_WR2_BUS                             POINT (-1.63264593718199 54.97230231629401)  "
      ]
     },
     "execution_count": 8,
     "metadata": {},
     "output_type": "execute_result"
    }
   ],
   "source": [
    "metadata = pd.read_csv(DATA_FOLDER+'sensors.csv')\n",
    "\n",
    "# spatial parsing - geometry column\n",
    "metadata = gpd.GeoDataFrame(metadata[['name','type','active','lon','lat']],\n",
    "                        geometry=[shapely.geometry.Point(xy) for xy in zip(metadata['lon'], metadata['lat'])], \n",
    "                        crs={'init': 'epsg:4326'}).to_crs(fiona.crs.from_epsg(4326))\n",
    "\n",
    "metadata = gpd.sjoin(metadata, lsoa, how='inner' ,op='intersects')[['name','type','active','lon','lat','geometry']]\n",
    "metadata = metadata.set_index('name')\n",
    "print(metadata.shape)\n",
    "metadata.head()"
   ]
  },
  {
   "cell_type": "code",
   "execution_count": 18,
   "metadata": {},
   "outputs": [],
   "source": [
    "l = ['cycleway','primary','secondary','service','footway','residential']\n",
    "p = ['traffic_signals','bus_stop','crossing']\n",
    "\n",
    "lines = lines[lines['highway'].isin(l)]\n",
    "points = points[points['highway'].isin(p)]\n",
    "\n",
    "ldf = pd.DataFrame(columns=l)\n",
    "pdf = pd.DataFrame(columns=p)\n",
    "\n",
    "for m in range(metadata.shape[0]):\n",
    "    i = metadata.iloc[m]\n",
    "    \n",
    "    lfeatures = lines[lines['geometry'].apply(lambda x: x.distance(i['geometry']))<0.0045]['highway'].value_counts().reindex(lines['highway'].unique(), fill_value=0)\n",
    "    ldf.loc[i.name] = lfeatures[l]\n",
    "    \n",
    "    pfeatures = points[points['geometry'].apply(lambda x: x.distance(i['geometry']))<0.0045]['highway'].value_counts().reindex(points['highway'].unique(), fill_value=0)\n",
    "    pdf.loc[i.name] = pfeatures[p]"
   ]
  },
  {
   "cell_type": "code",
   "execution_count": 19,
   "metadata": {},
   "outputs": [],
   "source": [
    "pd.concat([ldf,pdf],axis=1).to_csv(DATA_FOLDER+'street_features_newcastle.csv')"
   ]
  }
 ],
 "metadata": {
  "kernelspec": {
   "display_name": "Python 3",
   "language": "python",
   "name": "python3"
  },
  "language_info": {
   "codemirror_mode": {
    "name": "ipython",
    "version": 3
   },
   "file_extension": ".py",
   "mimetype": "text/x-python",
   "name": "python",
   "nbconvert_exporter": "python",
   "pygments_lexer": "ipython3",
   "version": "3.6.5"
  }
 },
 "nbformat": 4,
 "nbformat_minor": 2
}
