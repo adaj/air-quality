{
 "cells": [
  {
   "cell_type": "code",
   "execution_count": 1,
   "metadata": {},
   "outputs": [],
   "source": [
    "import sys\n",
    "sys.path.insert(0,'../src')\n",
    "from v0 import *"
   ]
  },
  {
   "cell_type": "code",
   "execution_count": 2,
   "metadata": {},
   "outputs": [],
   "source": [
    "STREET_SHAPE_FOLDER = '/home/adelsondias/Downloads/newcastle_streets/'\n",
    "LSOA_SHAPE_FOLDER = '/home/adelsondias/Repos/newcastle/air-quality/shape/Middle_Layer_Super_Output_Areas_December_2011_Full_Extent_Boundaries_in_England_and_Wales/'\n",
    "DATA_FOLDER = '/home/adelsondias/Repos/newcastle/air-quality/data_30days/'"
   ]
  },
  {
   "cell_type": "markdown",
   "metadata": {},
   "source": [
    "### Sensor's features ingestion"
   ]
  },
  {
   "cell_type": "code",
   "execution_count": 3,
   "metadata": {},
   "outputs": [],
   "source": [
    "variables =  {\n",
    "        'sensors':['NO2','Temperature','O3','CO'],\n",
    "        'exogenous':['primary','trunk','motorway','construction','residential','traffic_signals','crossing','bus_stop','day','dow','hour']\n",
    "}\n",
    "metadata, osmf, sensors = load_data(LSOA_SHAPE_FOLDER, DATA_FOLDER)\n",
    "sensors, metadata = resampling_sensors(sensors, metadata, variables, 'H')"
   ]
  },
  {
   "cell_type": "code",
   "execution_count": 6,
   "metadata": {},
   "outputs": [],
   "source": [
    "# sensors feature ingestion\n",
    "zx, zi = load_data__(DATA_FOLDER)\n",
    "zx, zi = resampling_sensors__(zx, zi, 'H')"
   ]
  },
  {
   "cell_type": "markdown",
   "metadata": {},
   "source": [
    "### Model training"
   ]
  },
  {
   "cell_type": "code",
   "execution_count": 39,
   "metadata": {},
   "outputs": [],
   "source": [
    "from sklearn.ensemble import GradientBoostingRegressor\n",
    "from sklearn.preprocessing import MinMaxScaler\n",
    "\n",
    "zxs = MinMaxScaler().fit_transform(zx)\n",
    "gb = GradientBoostingRegressor(n_estimators=200, max_depth=5, max_features=None).fit(zxs,np.log(zi['Value']))"
   ]
  },
  {
   "cell_type": "code",
   "execution_count": 82,
   "metadata": {},
   "outputs": [
    {
     "data": {
      "image/png": "[encoded data removed]",
      "text/plain": [
       "<matplotlib.figure.Figure at 0x7fa07ad86cf8>"
      ]
     },
     "metadata": {},
     "output_type": "display_data"
    }
   ],
   "source": [
    "# plot_learning_curves(gb,zxs,np.log(zi['Value']))\n",
    "train_sizes, train_scores, test_scores = learning_curve(\n",
    "                                            gb, zxs,np.log(zi['Value']), scoring='r2', n_jobs=2,\n",
    "                                            cv=ShuffleSplit(n_splits=5, test_size=0.1, random_state=0),\n",
    "                                            train_sizes=np.linspace(.1, 1.0, 5))\n",
    "\n",
    "train_scores_mean = np.mean(train_scores, axis=1)\n",
    "train_scores_std = np.std(train_scores, axis=1)\n",
    "test_scores_mean = np.mean(test_scores, axis=1)\n",
    "test_scores_std = np.std(test_scores, axis=1)\n",
    "\n",
    "plt.grid()\n",
    "plt.fill_between(train_sizes, train_scores_mean - train_scores_std,\n",
    "                 train_scores_mean + train_scores_std, alpha=0.3,\n",
    "                 color=\"r\")\n",
    "plt.fill_between(train_sizes, test_scores_mean - test_scores_std,\n",
    "                 test_scores_mean + test_scores_std, alpha=0.3, color=\"g\")\n",
    "plt.plot(train_sizes, train_scores_mean, 'o-', color=\"r\",\n",
    "         label=\"Training score\")\n",
    "plt.plot(train_sizes, test_scores_mean, 'o-', color=\"g\",\n",
    "         label=\"Cross-validation score\")\n",
    "plt.legend(loc=\"best\")\n",
    "plt.title('Learning Curves', fontsize=18)\n",
    "#plt.xlabel('n_estimators={} max_depth={}'.format(200,5))\n",
    "plt.tight_layout()\n",
    "plt.show()"
   ]
  },
  {
   "cell_type": "markdown",
   "metadata": {},
   "source": [
    "### Mesh features ingestion"
   ]
  },
  {
   "cell_type": "code",
   "execution_count": 4,
   "metadata": {},
   "outputs": [],
   "source": [
    "mesh = pd.read_csv(DATA_FOLDER+'mesh_valid-regions.csv',index_col=0)\n",
    "mesh['geometry'] = [shapely.geometry.Point(xy) for xy in zip(mesh.lon, mesh.lat)]\n",
    "mesh = gpd.GeoDataFrame(mesh)"
   ]
  },
  {
   "cell_type": "code",
   "execution_count": 7,
   "metadata": {},
   "outputs": [],
   "source": [
    "# def mesh_ingestion()\n",
    "idx = pd.IndexSlice\n",
    "t = pd.to_datetime('2018-07-01 07:00:00')\n",
    "\n",
    "\n",
    "zmesh = pd.DataFrame(index=mesh.index, columns=zx.columns)\n",
    "for m in range(mesh.shape[0]):\n",
    "    i = mesh.iloc[m]\n",
    "    for var in variables['sensors']:\n",
    "        st = sensors.loc[idx[var,:,t]]\n",
    "        closest = metadata.loc[st.index.get_level_values(1),'geometry'].apply(lambda x: x.distance(i['geometry'])).nsmallest(5)\n",
    "        closest = st.loc[idx[var,closest.index,t],:].join(closest)\n",
    "        zmesh.loc[i.name,var] = closest['Value'].values\n",
    "        zmesh.loc[i.name,\"d_{}\".format(var)] = closest['geometry'].values"
   ]
  },
  {
   "cell_type": "code",
   "execution_count": 9,
   "metadata": {},
   "outputs": [
    {
     "name": "stdout",
     "output_type": "stream",
     "text": [
      "Warning: CRS does not match!\n",
      "Warning: CRS does not match!\n"
     ]
    }
   ],
   "source": [
    "osm_df2 = osm_features(STREET_SHAPE_FOLDER, LSOA_SHAPE_FOLDER, mesh, \n",
    "                     conf={\n",
    "                         'method':'distance', \n",
    "                         'lines':['primary','trunk','motorway'], \n",
    "                         'points':['traffic_signals']}\n",
    ")\n",
    "zmesh[['primary','trunk','motorway','traffic_signals']] = osm_df2"
   ]
  },
  {
   "cell_type": "code",
   "execution_count": 20,
   "metadata": {},
   "outputs": [
    {
     "data": {
      "text/html": [
       "<div>\n",
       "<style scoped>\n",
       "    .dataframe tbody tr th:only-of-type {\n",
       "        vertical-align: middle;\n",
       "    }\n",
       "\n",
       "    .dataframe tbody tr th {\n",
       "        vertical-align: top;\n",
       "    }\n",
       "\n",
       "    .dataframe thead th {\n",
       "        text-align: right;\n",
       "    }\n",
       "</style>\n",
       "<table border=\"1\" class=\"dataframe\">\n",
       "  <thead>\n",
       "    <tr style=\"text-align: right;\">\n",
       "      <th></th>\n",
       "      <th>NO2</th>\n",
       "      <th>NO2</th>\n",
       "      <th>NO2</th>\n",
       "      <th>NO2</th>\n",
       "      <th>NO2</th>\n",
       "      <th>d_NO2</th>\n",
       "      <th>d_NO2</th>\n",
       "      <th>d_NO2</th>\n",
       "      <th>d_NO2</th>\n",
       "      <th>d_NO2</th>\n",
       "      <th>...</th>\n",
       "      <th>d_CO</th>\n",
       "      <th>d_CO</th>\n",
       "      <th>d_CO</th>\n",
       "      <th>hour</th>\n",
       "      <th>dow</th>\n",
       "      <th>day</th>\n",
       "      <th>primary</th>\n",
       "      <th>trunk</th>\n",
       "      <th>motorway</th>\n",
       "      <th>traffic_signals</th>\n",
       "    </tr>\n",
       "  </thead>\n",
       "  <tbody>\n",
       "    <tr>\n",
       "      <th>225</th>\n",
       "      <td>35.0731</td>\n",
       "      <td>28.2573</td>\n",
       "      <td>25.9871</td>\n",
       "      <td>34.3061</td>\n",
       "      <td>39.6497</td>\n",
       "      <td>0.0257949</td>\n",
       "      <td>0.0253511</td>\n",
       "      <td>0.0257335</td>\n",
       "      <td>0.024985</td>\n",
       "      <td>0.025292</td>\n",
       "      <td>...</td>\n",
       "      <td>0.0257335</td>\n",
       "      <td>0.024985</td>\n",
       "      <td>0.025292</td>\n",
       "      <td>7</td>\n",
       "      <td>6</td>\n",
       "      <td>1</td>\n",
       "      <td>391.853272</td>\n",
       "      <td>34.311356</td>\n",
       "      <td>26.041052</td>\n",
       "      <td>193.277120</td>\n",
       "    </tr>\n",
       "    <tr>\n",
       "      <th>226</th>\n",
       "      <td>642.87</td>\n",
       "      <td>32.1953</td>\n",
       "      <td>28.2573</td>\n",
       "      <td>34.3061</td>\n",
       "      <td>39.6497</td>\n",
       "      <td>0.0204777</td>\n",
       "      <td>0.0207071</td>\n",
       "      <td>0.020737</td>\n",
       "      <td>0.0192531</td>\n",
       "      <td>0.0196187</td>\n",
       "      <td>...</td>\n",
       "      <td>0.0207071</td>\n",
       "      <td>0.0192531</td>\n",
       "      <td>0.0196187</td>\n",
       "      <td>7</td>\n",
       "      <td>6</td>\n",
       "      <td>1</td>\n",
       "      <td>461.882409</td>\n",
       "      <td>36.476274</td>\n",
       "      <td>29.767130</td>\n",
       "      <td>442.493052</td>\n",
       "    </tr>\n",
       "    <tr>\n",
       "      <th>227</th>\n",
       "      <td>642.87</td>\n",
       "      <td>32.1953</td>\n",
       "      <td>34.3061</td>\n",
       "      <td>26.7816</td>\n",
       "      <td>39.6497</td>\n",
       "      <td>0.0154512</td>\n",
       "      <td>0.0155721</td>\n",
       "      <td>0.0138594</td>\n",
       "      <td>0.0156759</td>\n",
       "      <td>0.0143203</td>\n",
       "      <td>...</td>\n",
       "      <td>0.0155721</td>\n",
       "      <td>0.0138594</td>\n",
       "      <td>0.0143203</td>\n",
       "      <td>7</td>\n",
       "      <td>6</td>\n",
       "      <td>1</td>\n",
       "      <td>379.120962</td>\n",
       "      <td>39.048322</td>\n",
       "      <td>35.798693</td>\n",
       "      <td>378.431506</td>\n",
       "    </tr>\n",
       "    <tr>\n",
       "      <th>273</th>\n",
       "      <td>35.0731</td>\n",
       "      <td>30.6576</td>\n",
       "      <td>28.2573</td>\n",
       "      <td>25.9871</td>\n",
       "      <td>34.3061</td>\n",
       "      <td>0.0354617</td>\n",
       "      <td>0.0360541</td>\n",
       "      <td>0.0349323</td>\n",
       "      <td>0.0352249</td>\n",
       "      <td>0.036366</td>\n",
       "      <td>...</td>\n",
       "      <td>0.0349323</td>\n",
       "      <td>0.0352249</td>\n",
       "      <td>0.036366</td>\n",
       "      <td>7</td>\n",
       "      <td>6</td>\n",
       "      <td>1</td>\n",
       "      <td>627.601963</td>\n",
       "      <td>37.819919</td>\n",
       "      <td>20.938867</td>\n",
       "      <td>359.133729</td>\n",
       "    </tr>\n",
       "    <tr>\n",
       "      <th>274</th>\n",
       "      <td>35.0731</td>\n",
       "      <td>30.6576</td>\n",
       "      <td>28.2573</td>\n",
       "      <td>25.9871</td>\n",
       "      <td>34.3061</td>\n",
       "      <td>0.0297959</td>\n",
       "      <td>0.0303599</td>\n",
       "      <td>0.0292861</td>\n",
       "      <td>0.0296058</td>\n",
       "      <td>0.0303146</td>\n",
       "      <td>...</td>\n",
       "      <td>0.0292861</td>\n",
       "      <td>0.0296058</td>\n",
       "      <td>0.0303146</td>\n",
       "      <td>7</td>\n",
       "      <td>6</td>\n",
       "      <td>1</td>\n",
       "      <td>1251.093952</td>\n",
       "      <td>38.280250</td>\n",
       "      <td>23.670178</td>\n",
       "      <td>300.203685</td>\n",
       "    </tr>\n",
       "  </tbody>\n",
       "</table>\n",
       "<p>5 rows × 47 columns</p>\n",
       "</div>"
      ],
      "text/plain": [
       "         NO2      NO2      NO2      NO2      NO2      d_NO2      d_NO2  \\\n",
       "225  35.0731  28.2573  25.9871  34.3061  39.6497  0.0257949  0.0253511   \n",
       "226   642.87  32.1953  28.2573  34.3061  39.6497  0.0204777  0.0207071   \n",
       "227   642.87  32.1953  34.3061  26.7816  39.6497  0.0154512  0.0155721   \n",
       "273  35.0731  30.6576  28.2573  25.9871  34.3061  0.0354617  0.0360541   \n",
       "274  35.0731  30.6576  28.2573  25.9871  34.3061  0.0297959  0.0303599   \n",
       "\n",
       "         d_NO2      d_NO2      d_NO2       ...             d_CO       d_CO  \\\n",
       "225  0.0257335   0.024985   0.025292       ...        0.0257335   0.024985   \n",
       "226   0.020737  0.0192531  0.0196187       ...        0.0207071  0.0192531   \n",
       "227  0.0138594  0.0156759  0.0143203       ...        0.0155721  0.0138594   \n",
       "273  0.0349323  0.0352249   0.036366       ...        0.0349323  0.0352249   \n",
       "274  0.0292861  0.0296058  0.0303146       ...        0.0292861  0.0296058   \n",
       "\n",
       "          d_CO hour dow day      primary      trunk   motorway traffic_signals  \n",
       "225   0.025292    7   6   1   391.853272  34.311356  26.041052      193.277120  \n",
       "226  0.0196187    7   6   1   461.882409  36.476274  29.767130      442.493052  \n",
       "227  0.0143203    7   6   1   379.120962  39.048322  35.798693      378.431506  \n",
       "273   0.036366    7   6   1   627.601963  37.819919  20.938867      359.133729  \n",
       "274  0.0303146    7   6   1  1251.093952  38.280250  23.670178      300.203685  \n",
       "\n",
       "[5 rows x 47 columns]"
      ]
     },
     "execution_count": 20,
     "metadata": {},
     "output_type": "execute_result"
    }
   ],
   "source": [
    "zmesh['hour'] = t.hour\n",
    "zmesh['day'] = t.day\n",
    "zmesh['dow'] = t.dayofweek\n",
    "zmesh.head()"
   ]
  },
  {
   "cell_type": "markdown",
   "metadata": {},
   "source": [
    "# Finally... predict!"
   ]
  },
  {
   "cell_type": "code",
   "execution_count": 61,
   "metadata": {},
   "outputs": [
    {
     "data": {
      "text/html": [
       "<div>\n",
       "<style scoped>\n",
       "    .dataframe tbody tr th:only-of-type {\n",
       "        vertical-align: middle;\n",
       "    }\n",
       "\n",
       "    .dataframe tbody tr th {\n",
       "        vertical-align: top;\n",
       "    }\n",
       "\n",
       "    .dataframe thead th {\n",
       "        text-align: right;\n",
       "    }\n",
       "</style>\n",
       "<table border=\"1\" class=\"dataframe\">\n",
       "  <thead>\n",
       "    <tr style=\"text-align: right;\">\n",
       "      <th></th>\n",
       "      <th>pred</th>\n",
       "    </tr>\n",
       "  </thead>\n",
       "  <tbody>\n",
       "    <tr>\n",
       "      <th>225</th>\n",
       "      <td>9.654101</td>\n",
       "    </tr>\n",
       "    <tr>\n",
       "      <th>226</th>\n",
       "      <td>10.595885</td>\n",
       "    </tr>\n",
       "    <tr>\n",
       "      <th>227</th>\n",
       "      <td>22.028522</td>\n",
       "    </tr>\n",
       "    <tr>\n",
       "      <th>273</th>\n",
       "      <td>20.737118</td>\n",
       "    </tr>\n",
       "    <tr>\n",
       "      <th>274</th>\n",
       "      <td>12.987754</td>\n",
       "    </tr>\n",
       "  </tbody>\n",
       "</table>\n",
       "</div>"
      ],
      "text/plain": [
       "          pred\n",
       "225   9.654101\n",
       "226  10.595885\n",
       "227  22.028522\n",
       "273  20.737118\n",
       "274  12.987754"
      ]
     },
     "execution_count": 61,
     "metadata": {},
     "output_type": "execute_result"
    }
   ],
   "source": [
    "y_pred = pd.DataFrame(np.exp(gb.predict(MinMaxScaler().fit_transform(zmesh))), \n",
    "                      index=mesh.index, columns=['pred'])\n",
    "y_pred.head()"
   ]
  },
  {
   "cell_type": "markdown",
   "metadata": {},
   "source": [
    "### and plot"
   ]
  },
  {
   "cell_type": "code",
   "execution_count": 54,
   "metadata": {},
   "outputs": [],
   "source": [
    "lon = np.linspace(-1.8, -1.5, 50)\n",
    "lat = np.linspace(54.95, 55.08, 50)\n",
    "lonv, latv = np.meshgrid(lon,lat)\n",
    "Z = np.zeros(lonv.shape[0]*lonv.shape[1]) - 9999\n",
    "\n",
    "Z[mesh.index.values] = y_pred.values.ravel()\n",
    "Z = Z.reshape(lonv.shape)"
   ]
  },
  {
   "cell_type": "code",
   "execution_count": 73,
   "metadata": {},
   "outputs": [
    {
     "name": "stdout",
     "output_type": "stream",
     "text": [
      "Warning: CRS does not match!\n"
     ]
    }
   ],
   "source": [
    "# shapes\n",
    "lsoa = gpd.read_file(LSOA_SHAPE_FOLDER+'Middle_Layer_Super_Output_Areas_December_2011_Full_Extent_Boundaries_in_England_and_Wales.shp')\n",
    "lsoa = lsoa[lsoa['msoa11nm'].str.contains('Newcastle upon Tyne')]\n",
    "lsoa = lsoa.to_crs(fiona.crs.from_epsg(4326))\n",
    "lsoa.crs = {'init': 'epsg:4326', 'no_defs': True}\n",
    "newcastle = gpd.GeoSeries(shapely.ops.cascaded_union(lsoa['geometry']))\n",
    "lines = gpd.read_file(STREET_SHAPE_FOLDER+'newcastle_streets.shp')\n",
    "lines = lines[(lines['highway']!='') & (lines['highway']!='unclassified')]\n",
    "lines = gpd.sjoin(lines, gpd.GeoDataFrame(geometry=newcastle, crs={'init': 'epsg:4326', 'no_defs': True}), how='inner' ,op='intersects')[lines.columns]"
   ]
  },
  {
   "cell_type": "code",
   "execution_count": 78,
   "metadata": {},
   "outputs": [
    {
     "data": {
      "image/png": "[encoded data removed]",
      "text/plain": [
       "<matplotlib.figure.Figure at 0x7fa0626ebf98>"
      ]
     },
     "metadata": {},
     "output_type": "display_data"
    }
   ],
   "source": [
    "fig, axes = plt.subplots(ncols=1, nrows=1, figsize=(7.5,5.5))\n",
    "\n",
    "newcastle.plot(ax=axes,color='white', edgecolor='black',linewidth=2)\n",
    "# metadata.plot(ax=axes,color='white', edgecolor='black',linewidth=2,zorder=10)\n",
    "plt.contourf(lonv, latv, Z,levels=np.linspace(0, Z.max(), 20), cmap=plt.cm.Spectral_r,alpha=1)\n",
    "plt.axis('off')\n",
    "plt.tight_layout()\n",
    "if True:\n",
    "    plt.savefig(DATA_FOLDER+'plots/prediction.svg', format='svg', dpi=600)"
   ]
  }
 ],
 "metadata": {
  "kernelspec": {
   "display_name": "Python 3",
   "language": "python",
   "name": "python3"
  },
  "language_info": {
   "codemirror_mode": {
    "name": "ipython",
    "version": 3
   },
   "file_extension": ".py",
   "mimetype": "text/x-python",
   "name": "python",
   "nbconvert_exporter": "python",
   "pygments_lexer": "ipython3",
   "version": "3.6.5"
  }
 },
 "nbformat": 4,
 "nbformat_minor": 2
}
