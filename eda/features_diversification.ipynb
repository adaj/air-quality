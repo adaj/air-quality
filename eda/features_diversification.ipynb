{
 "cells": [
  {
   "cell_type": "code",
   "execution_count": 133,
   "metadata": {},
   "outputs": [
    {
     "name": "stdout",
     "output_type": "stream",
     "text": [
      "data loaded\n"
     ]
    }
   ],
   "source": [
    "import sys\n",
    "# sys.path.insert(0,'Repos/newcastle/air-quality/src/')\n",
    "sys.path.insert(0,'../src')\n",
    "from v0 import *\n",
    "from sklearn.preprocessing import RobustScaler\n",
    "from sklearn.decomposition import PCA\n",
    "from sklearn.metrics import r2_score, explained_variance_score\n",
    "\n",
    "SHAPE_FOLDER = '/home/adelsondias/Repos/newcastle/air-quality/shape/Middle_Layer_Super_Output_Areas_December_2011_Full_Extent_Boundaries_in_England_and_Wales/'\n",
    "DATA_FOLDER = '/home/adelsondias/Repos/newcastle/air-quality/data_30days/'\n",
    "zx, zi = load_data__(DATA_FOLDER)\n",
    "print('data loaded')\n",
    "\n",
    "freq='D'\n",
    "variables =  {\n",
    "'sensors':['NO2','Temperature','O3','CO'],\n",
    "    'exogenous':['primary','trunk','motorway','traffic_signals','day','dow','hour'] \n",
    "}\n",
    "if freq=='D':\n",
    "    variables['exogenous'] = ['primary','trunk','motorway','traffic_signals','day','dow'] \n",
    "\n",
    "zx, zi = resampling_sensors__(zx, zi, freq)"
   ]
  },
  {
   "cell_type": "code",
   "execution_count": 137,
   "metadata": {},
   "outputs": [
    {
     "data": {
      "text/plain": [
       "Index(['NO2', 'NO2', 'NO2', 'NO2', 'NO2', 'd_NO2', 'd_NO2', 'd_NO2', 'd_NO2',\n",
       "       'd_NO2', 'Temperature', 'Temperature', 'Temperature', 'Temperature',\n",
       "       'Temperature', 'd_Temperature', 'd_Temperature', 'd_Temperature',\n",
       "       'd_Temperature', 'd_Temperature', 'O3', 'O3', 'O3', 'O3', 'O3', 'd_O3',\n",
       "       'd_O3', 'd_O3', 'd_O3', 'd_O3', 'CO', 'CO', 'CO', 'CO', 'CO', 'd_CO',\n",
       "       'd_CO', 'd_CO', 'd_CO', 'd_CO', 'dow', 'day', 'primary', 'trunk',\n",
       "       'motorway', 'traffic_signals'],\n",
       "      dtype='object')"
      ]
     },
     "execution_count": 137,
     "metadata": {},
     "output_type": "execute_result"
    }
   ],
   "source": [
    "zx.columns"
   ]
  },
  {
   "cell_type": "code",
   "execution_count": 13,
   "metadata": {},
   "outputs": [
    {
     "data": {
      "text/html": [
       "<div>\n",
       "<style scoped>\n",
       "    .dataframe tbody tr th:only-of-type {\n",
       "        vertical-align: middle;\n",
       "    }\n",
       "\n",
       "    .dataframe tbody tr th {\n",
       "        vertical-align: top;\n",
       "    }\n",
       "\n",
       "    .dataframe thead th {\n",
       "        text-align: right;\n",
       "    }\n",
       "</style>\n",
       "<table border=\"1\" class=\"dataframe\">\n",
       "  <thead>\n",
       "    <tr style=\"text-align: right;\">\n",
       "      <th></th>\n",
       "      <th></th>\n",
       "      <th>Value</th>\n",
       "    </tr>\n",
       "    <tr>\n",
       "      <th>Sensor Name</th>\n",
       "      <th>Timestamp</th>\n",
       "      <th></th>\n",
       "    </tr>\n",
       "  </thead>\n",
       "  <tbody>\n",
       "    <tr>\n",
       "      <th rowspan=\"5\" valign=\"top\">Newcastle_Cradlewell_Roadside_AURN_AQ_MONITOR</th>\n",
       "      <th>2018-07-01</th>\n",
       "      <td>31.0</td>\n",
       "    </tr>\n",
       "    <tr>\n",
       "      <th>2018-07-02</th>\n",
       "      <td>11.0</td>\n",
       "    </tr>\n",
       "    <tr>\n",
       "      <th>2018-07-03</th>\n",
       "      <td>17.0</td>\n",
       "    </tr>\n",
       "    <tr>\n",
       "      <th>2018-07-04</th>\n",
       "      <td>36.0</td>\n",
       "    </tr>\n",
       "    <tr>\n",
       "      <th>2018-07-05</th>\n",
       "      <td>25.0</td>\n",
       "    </tr>\n",
       "  </tbody>\n",
       "</table>\n",
       "</div>"
      ],
      "text/plain": [
       "                                                          Value\n",
       "Sensor Name                                   Timestamp        \n",
       "Newcastle_Cradlewell_Roadside_AURN_AQ_MONITOR 2018-07-01   31.0\n",
       "                                              2018-07-02   11.0\n",
       "                                              2018-07-03   17.0\n",
       "                                              2018-07-04   36.0\n",
       "                                              2018-07-05   25.0"
      ]
     },
     "execution_count": 13,
     "metadata": {},
     "output_type": "execute_result"
    }
   ],
   "source": [
    "zi.head()"
   ]
  },
  {
   "cell_type": "code",
   "execution_count": 24,
   "metadata": {},
   "outputs": [
    {
     "data": {
      "text/plain": [
       "-7.0969426060706695"
      ]
     },
     "execution_count": 24,
     "metadata": {},
     "output_type": "execute_result"
    }
   ],
   "source": [
    "r2_score(zi,zx['NO2'].median(axis=1))"
   ]
  },
  {
   "cell_type": "code",
   "execution_count": 54,
   "metadata": {},
   "outputs": [
    {
     "data": {
      "text/plain": [
       "(0.007550134919031691, 0.7049250544672929)"
      ]
     },
     "execution_count": 54,
     "metadata": {},
     "output_type": "execute_result"
    }
   ],
   "source": [
    "from scipy.stats import pearsonr\n",
    "pearsonr(np.ravel(zi),np.ravel(zx['Temperature'].min(axis=1)))\n",
    "# np.ravel(zx['day'])"
   ]
  },
  {
   "cell_type": "code",
   "execution_count": 188,
   "metadata": {},
   "outputs": [],
   "source": [
    "def rfe(zx, zi, n=None, step=1):\n",
    "    from sklearn.feature_selection import RFE\n",
    "    from sklearn.ensemble import RandomForestRegressor\n",
    "\n",
    "    selector = RFE(RandomForestRegressor(), n_features_to_select=n, step=step)\n",
    "    selector.fit(zx, zi['Value'])\n",
    "    try:\n",
    "        sel = pd.DataFrame(columns=zx.columns)\n",
    "        sel.loc['support']= selector.support_\n",
    "        sel.loc['ranking'] = selector.ranking_\n",
    "\n",
    "        cols = sel.loc['support'].reset_index()['support']\n",
    "        zxtmp = zx.iloc[:,cols[cols].index]\n",
    "    except:\n",
    "        zxtmp = selector.transform(zx)\n",
    "    return zxtmp"
   ]
  },
  {
   "cell_type": "code",
   "execution_count": 161,
   "metadata": {},
   "outputs": [],
   "source": [
    "zxtmp = rfe(zx,zi)"
   ]
  },
  {
   "cell_type": "code",
   "execution_count": 165,
   "metadata": {},
   "outputs": [
    {
     "data": {
      "text/plain": [
       "-0.0324630617177418"
      ]
     },
     "execution_count": 165,
     "metadata": {},
     "output_type": "execute_result"
    }
   ],
   "source": [
    "mlp(RobustScaler().fit_transform(zxtmp), np.log(zi), 50, False)"
   ]
  },
  {
   "cell_type": "code",
   "execution_count": 190,
   "metadata": {
    "scrolled": true
   },
   "outputs": [],
   "source": [
    "def poly_rfe(zx, zi, n=30, step=50):\n",
    "    from sklearn.preprocessing import PolynomialFeatures\n",
    "    zxtmp = PolynomialFeatures(degree=2).fit_transform(zx)\n",
    "    zxtmp = rfe(zxtmp,zi,n=n,step=step)\n",
    "    return zxtmp2"
   ]
  },
  {
   "cell_type": "code",
   "execution_count": 187,
   "metadata": {},
   "outputs": [
    {
     "data": {
      "text/plain": [
       "(2518, 23)"
      ]
     },
     "execution_count": 187,
     "metadata": {},
     "output_type": "execute_result"
    }
   ],
   "source": [
    "poly_rfe(zx, zi, n=30, step=50)"
   ]
  }
 ],
 "metadata": {
  "kernelspec": {
   "display_name": "Python 3",
   "language": "python",
   "name": "python3"
  },
  "language_info": {
   "codemirror_mode": {
    "name": "ipython",
    "version": 3
   },
   "file_extension": ".py",
   "mimetype": "text/x-python",
   "name": "python",
   "nbconvert_exporter": "python",
   "pygments_lexer": "ipython3",
   "version": "3.6.5"
  }
 },
 "nbformat": 4,
 "nbformat_minor": 2
}
