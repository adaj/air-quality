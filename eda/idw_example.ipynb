{
 "cells": [
  {
   "cell_type": "markdown",
   "metadata": {},
   "source": [
    "# Inverse distance weighting example\n",
    "\n",
    "Spatial interpolation snippet with IWD technique (implementation of [@paulbrodersen](https://github.com/paulbrodersen/inverse_distance_weighting)). "
   ]
  },
  {
   "cell_type": "code",
   "execution_count": 1,
   "metadata": {},
   "outputs": [],
   "source": [
    "import pandas as pd\n",
    "import numpy as np \n",
    "\n",
    "import geopandas as gpd\n",
    "import shapely\n",
    "import fiona\n",
    "import folium\n",
    "\n",
    "import seaborn as sns\n",
    "import matplotlib.pyplot as plt\n",
    "import matplotlib.ticker as ticker"
   ]
  },
  {
   "cell_type": "markdown",
   "metadata": {},
   "source": [
    "Dataset loading and parsing"
   ]
  },
  {
   "cell_type": "code",
   "execution_count": 2,
   "metadata": {},
   "outputs": [],
   "source": [
    "LSOA_SHAPE_FOLDER = '/home/adelsondias/Repos/newcastle/air-quality/shape/Middle_Layer_Super_Output_Areas_December_2011_Full_Extent_Boundaries_in_England_and_Wales/'\n",
    "DATA_FOLDER = '/home/adelsondias/Repos/newcastle/air-quality/data_7days/'\n",
    "\n",
    "lsoa = gpd.read_file(LSOA_SHAPE_FOLDER+'Middle_Layer_Super_Output_Areas_December_2011_Full_Extent_Boundaries_in_England_and_Wales.shp')\n",
    "lsoa = lsoa[lsoa['msoa11nm'].str.contains('Newcastle upon Tyne')]\n",
    "lsoa = lsoa.to_crs(fiona.crs.from_epsg(4326))\n",
    "lsoa.crs = {'init': 'epsg:4326', 'no_defs': True}\n",
    "\n",
    "metadata = pd.read_csv(DATA_FOLDER+'sensors.csv')\n",
    "\n",
    "# spatial parsing - geometry column\n",
    "metadata = gpd.GeoDataFrame(metadata[['name','type','active','lon','lat']],\n",
    "                        geometry=[shapely.geometry.Point(xy) for xy in zip(metadata['lon'], metadata['lat'])], \n",
    "                        crs={'init': 'epsg:4326'}).to_crs(fiona.crs.from_epsg(4326))\n",
    "\n",
    "metadata = gpd.sjoin(metadata, lsoa, how='inner' ,op='intersects')[['name','type','active','lon','lat','geometry']]\n",
    "metadata = metadata.set_index('name')\n",
    "\n",
    "sensors = pd.read_csv(DATA_FOLDER+'data.csv')\n",
    "sensors['Timestamp'] = pd.to_datetime(sensors['Timestamp'])\n",
    "sensors = sensors.set_index(['Variable','Sensor Name','Timestamp'])\n",
    "\n",
    "# resampling by freq\n",
    "freq='D'\n",
    "level_values = sensors.index.get_level_values\n",
    "sensors = (sensors.groupby([level_values(i) for i in [0,1]]\n",
    "                   +[pd.Grouper(freq=freq, level=-1)]).median())\n",
    "\n",
    "# filtering by Newcastle's region\n",
    "m = metadata.index.values\n",
    "s = sensors.reset_index()\n",
    "s = s.loc[s['Sensor Name'].isin(m)]\n",
    "sensors = s.set_index(['Variable','Sensor Name','Timestamp'])\n",
    "\n",
    "variables = ['CO', 'Humidity', 'Journey Time', 'NO2', 'O3', \n",
    "             'PM10', 'Particle Count', 'Sound', 'Temperature', \n",
    "             'Wind Direction', 'Wind Speed']\n",
    "\n",
    "sensors = sensors.loc[variables]\n",
    "metadata = metadata.loc[sensors.index.get_level_values(1).unique()]"
   ]
  },
  {
   "cell_type": "code",
   "execution_count": 3,
   "metadata": {},
   "outputs": [],
   "source": [
    "idx = pd.IndexSlice\n",
    "\n",
    "a = sensors.loc[idx['NO2',:,'2018-07-06'],:].reset_index((0,2)).join(metadata)[['Value','lon','lat']]\n",
    "\n",
    "X1 = a.loc[a['lon']<-1.60][['lon','lat']].values\n",
    "z1 = a.loc[a['lon']<-1.60][['Value']].values.reshape(-1,)"
   ]
  },
  {
   "cell_type": "code",
   "execution_count": 4,
   "metadata": {},
   "outputs": [
    {
     "data": {
      "text/html": [
       "<div>\n",
       "<style scoped>\n",
       "    .dataframe tbody tr th:only-of-type {\n",
       "        vertical-align: middle;\n",
       "    }\n",
       "\n",
       "    .dataframe tbody tr th {\n",
       "        vertical-align: top;\n",
       "    }\n",
       "\n",
       "    .dataframe thead th {\n",
       "        text-align: right;\n",
       "    }\n",
       "</style>\n",
       "<table border=\"1\" class=\"dataframe\">\n",
       "  <thead>\n",
       "    <tr style=\"text-align: right;\">\n",
       "      <th></th>\n",
       "      <th>Value</th>\n",
       "      <th>lon</th>\n",
       "      <th>lat</th>\n",
       "    </tr>\n",
       "    <tr>\n",
       "      <th>Sensor Name</th>\n",
       "      <th></th>\n",
       "      <th></th>\n",
       "      <th></th>\n",
       "    </tr>\n",
       "  </thead>\n",
       "  <tbody>\n",
       "    <tr>\n",
       "      <th>aq_mesh1756150</th>\n",
       "      <td>35.604662</td>\n",
       "      <td>-1.617166</td>\n",
       "      <td>54.974211</td>\n",
       "    </tr>\n",
       "    <tr>\n",
       "      <th>aq_mesh1757150</th>\n",
       "      <td>34.312820</td>\n",
       "      <td>-1.617310</td>\n",
       "      <td>54.972260</td>\n",
       "    </tr>\n",
       "    <tr>\n",
       "      <th>aq_mesh1758150</th>\n",
       "      <td>30.726531</td>\n",
       "      <td>-1.612730</td>\n",
       "      <td>54.975750</td>\n",
       "    </tr>\n",
       "    <tr>\n",
       "      <th>aq_mesh1759150</th>\n",
       "      <td>43.488536</td>\n",
       "      <td>-1.613355</td>\n",
       "      <td>54.977854</td>\n",
       "    </tr>\n",
       "    <tr>\n",
       "      <th>aq_mesh1760150</th>\n",
       "      <td>46.665923</td>\n",
       "      <td>-1.610690</td>\n",
       "      <td>54.972230</td>\n",
       "    </tr>\n",
       "  </tbody>\n",
       "</table>\n",
       "</div>"
      ],
      "text/plain": [
       "                    Value       lon        lat\n",
       "Sensor Name                                   \n",
       "aq_mesh1756150  35.604662 -1.617166  54.974211\n",
       "aq_mesh1757150  34.312820 -1.617310  54.972260\n",
       "aq_mesh1758150  30.726531 -1.612730  54.975750\n",
       "aq_mesh1759150  43.488536 -1.613355  54.977854\n",
       "aq_mesh1760150  46.665923 -1.610690  54.972230"
      ]
     },
     "execution_count": 4,
     "metadata": {},
     "output_type": "execute_result"
    }
   ],
   "source": [
    "a.head()"
   ]
  },
  {
   "cell_type": "markdown",
   "metadata": {},
   "source": [
    "## Implementation"
   ]
  },
  {
   "cell_type": "code",
   "execution_count": 5,
   "metadata": {},
   "outputs": [
    {
     "data": {
      "image/png": "[encoded data removed]",
      "text/plain": [
       "<matplotlib.figure.Figure at 0x7fd568634fd0>"
      ]
     },
     "metadata": {},
     "output_type": "display_data"
    }
   ],
   "source": [
    "import idw\n",
    "\n",
    "# 'train'\n",
    "idw_tree = idw.tree(X1, z1)\n",
    "# 'test'\n",
    "xspacing = np.linspace(X1[:,0].min(), X1[:,0].max(), 100)\n",
    "yspacing = np.linspace(X1[:,1].min(), X1[:,1].max(), 100)\n",
    "X2 = np.meshgrid(xspacing, yspacing)\n",
    "grid_shape = X2[0].shape\n",
    "X2 = np.reshape(X2, (2, -1)).T\n",
    "\n",
    "z2 = idw_tree(X2)\n",
    "\n",
    "# plot\n",
    "fig, (ax1, ax2) = plt.subplots(1,2, sharex=True, sharey=True, figsize=(15,5))\n",
    "ax1.xaxis.set_major_formatter(ticker.FormatStrFormatter('%0.3f'))\n",
    "ax1.scatter(X1[:,0], X1[:,1], c=z1, linewidths=0)\n",
    "ax1.set_title('Samples',fontsize=24)\n",
    "ax2.contourf(xspacing, yspacing, z2.reshape(grid_shape))\n",
    "ax2.set_title('Reconstruction',fontsize=24)\n",
    "plt.xlim(X1[:,0].min(), X1[:,0].max())\n",
    "plt.ylim(X1[:,1].min(), X1[:,1].max())\n",
    "plt.show()"
   ]
  },
  {
   "cell_type": "markdown",
   "metadata": {},
   "source": [
    "## Evaluation\n",
    "\n",
    "Calculating R2 score with \"leave-one-out\" technique"
   ]
  },
  {
   "cell_type": "code",
   "execution_count": 6,
   "metadata": {},
   "outputs": [
    {
     "data": {
      "text/plain": [
       "[-30.884971519604342,\n",
       " -3.7234697043598866,\n",
       " -6.67071277284843,\n",
       " -7.772279527096739,\n",
       " -1.0300139358193392]"
      ]
     },
     "execution_count": 6,
     "metadata": {},
     "output_type": "execute_result"
    }
   ],
   "source": [
    "from sklearn.model_selection import KFold\n",
    "from sklearn.metrics import r2_score\n",
    "\n",
    "scores = []\n",
    "kf = KFold(n_splits=5)\n",
    "for train_index, test_index in kf.split(X1):\n",
    "    X_train, X_test = X1[train_index], X1[test_index]\n",
    "    z_train, z_test = z1[train_index], z1[test_index]\n",
    "    \n",
    "    # train\n",
    "    idw_tree = idw.tree(X_train, z_train)\n",
    "    \n",
    "    # test\n",
    "    z_pred = idw_tree(X_test)\n",
    "    scores.append(r2_score(z_pred,z_test))\n",
    "scores"
   ]
  }
 ],
 "metadata": {
  "kernelspec": {
   "display_name": "Python 3",
   "language": "python",
   "name": "python3"
  },
  "language_info": {
   "codemirror_mode": {
    "name": "ipython",
    "version": 3
   },
   "file_extension": ".py",
   "mimetype": "text/x-python",
   "name": "python",
   "nbconvert_exporter": "python",
   "pygments_lexer": "ipython3",
   "version": "3.6.5"
  }
 },
 "nbformat": 4,
 "nbformat_minor": 2
}
