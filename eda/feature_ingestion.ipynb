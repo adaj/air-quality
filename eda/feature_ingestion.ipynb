{
 "cells": [
  {
   "cell_type": "code",
   "execution_count": 1,
   "metadata": {},
   "outputs": [],
   "source": [
    "import pandas as pd\n",
    "import numpy as np \n",
    "import sys\n",
    "\n",
    "import geopandas as gpd\n",
    "import shapely\n",
    "import fiona\n",
    "import folium\n",
    "\n",
    "import seaborn as sns\n",
    "import matplotlib.pyplot as plt\n",
    "\n",
    "# sys.path.insert(0,'Repos/newcastle/air-quality/src/')\n",
    "sys.path.insert(0,'../src')\n",
    "from v0 import *"
   ]
  },
  {
   "cell_type": "markdown",
   "metadata": {},
   "source": [
    "## Dataset"
   ]
  },
  {
   "cell_type": "code",
   "execution_count": 133,
   "metadata": {},
   "outputs": [],
   "source": [
    "SHAPE_FOLDER = '/home/adelsondias/Repos/newcastle/air-quality/shape/Middle_Layer_Super_Output_Areas_December_2011_Full_Extent_Boundaries_in_England_and_Wales/'\n",
    "DATA_FOLDER = '/home/adelsondias/Repos/newcastle/air-quality/data_allsensors_8days/'\n",
    "metadata, sfeat, sensors = load_data(SHAPE_FOLDER, DATA_FOLDER)\n",
    "\n",
    "variables =  {\n",
    "        'sensors':['NO2','Temperature','Humidity','O3','CO','PM10'],\n",
    "        'exogenous':['primary','trunk','motorway','signals','day','dow','hour'] #'street' = 'primary','trunk','motorway','traffic_signals'\n",
    "}\n",
    "sensors, metadata = resampling_sensors(sensors, metadata, variables, 'H')"
   ]
  },
  {
   "cell_type": "markdown",
   "metadata": {},
   "source": [
    "## 1. Feature ingestion\n",
    "\n",
    "This consider a list of k neighbors measures for each time and variable, to predict a single target specified"
   ]
  },
  {
   "cell_type": "code",
   "execution_count": null,
   "metadata": {},
   "outputs": [],
   "source": [
    "variables = {\n",
    "    'sensors':['NO2','Temperature','O3','CO','PM10'],\n",
    "    'exogenous':['primary','trunk','motorway','traffic_signals','hour']\n",
    "}\n",
    "\n",
    "zx, zi = ingestion(sensors, metadata, sfeat, variables, k=5, target='NO2', method='randomized')\n",
    "print(zx.shape,zi.shape)\n",
    "zx.head()"
   ]
  },
  {
   "cell_type": "code",
   "execution_count": 22,
   "metadata": {},
   "outputs": [],
   "source": [
    "if False: # save\n",
    "    zx.to_csv(DATA_FOLDER+'zx_D_7days.csv')\n",
    "    zi.to_csv(DATA_FOLDER+'zi_D_7days.csv')\n",
    "if False: # load\n",
    "    zx = pd.read_csv(DATA_FOLDER+'zx_D_7days.csv',index_col=['Sensor Name','Timestamp'])\n",
    "    zi = pd.read_csv(DATA_FOLDER+'zi_D_7days.csv',index_col=['Sensor Name','Timestamp'])"
   ]
  },
  {
   "cell_type": "markdown",
   "metadata": {},
   "source": [
    "### 1.a. Inverse Distance Weighting"
   ]
  },
  {
   "cell_type": "code",
   "execution_count": null,
   "metadata": {},
   "outputs": [],
   "source": [
    "def iwd_features(zx, sensor_variables):\n",
    "    ziwd = pd.DataFrame(index=zx.index)\n",
    "    for var in sensor_variables:\n",
    "        ziwd['iwd_{}'.format(var)] = (((zx['d_{}'.format(var)].values*zx[var].values).sum(axis=1))/zx['d_{}'.format(var)].values.sum(axis=1))\n",
    "    return ziwd\n",
    "ziwd = iwd_features(zx, variables['sensors'])\n",
    "ziwd = ziwd.join(zx[variables['exogenous']])\n",
    "ziwd.head()"
   ]
  },
  {
   "cell_type": "markdown",
   "metadata": {},
   "source": [
    "### 1.b. Spatial Averaging"
   ]
  },
  {
   "cell_type": "code",
   "execution_count": 40,
   "metadata": {},
   "outputs": [],
   "source": [
    "def spavg_features(zx, sensor_variables):\n",
    "    zavg = pd.DataFrame(index=zx.index)\n",
    "    for var in sensor_variables:\n",
    "        zavg['spavg_{}'.format(var)] = zx[var].values.sum(axis=1)/zx[var].shape[1]\n",
    "    return zavg   \n",
    "zavg = spavg_features(zx, variables['sensors'])\n",
    "zavg = zavg.join(zx[variables['exogenous']])"
   ]
  },
  {
   "cell_type": "markdown",
   "metadata": {},
   "source": [
    "### 1.b. Nearest Neighbor"
   ]
  },
  {
   "cell_type": "code",
   "execution_count": 63,
   "metadata": {},
   "outputs": [],
   "source": [
    "def nn_features(zx, sensor_variables):\n",
    "    znn = pd.DataFrame(index=zx.index)\n",
    "    for var in sensor_variables:\n",
    "        znn['nn_{}'.format(var)] = zx[['d_{}'.format(var),var]].apply(lambda x: x[var].values[x['d_{}'.format(var)].values.argmin()], axis=1)\n",
    "    return znn\n",
    "znn = nn_features(zx, variables['sensors'])\n",
    "znn = znn.join(zx[variables['exogenous']])"
   ]
  },
  {
   "cell_type": "markdown",
   "metadata": {},
   "source": [
    "### Feature correlation visualization"
   ]
  },
  {
   "cell_type": "code",
   "execution_count": 14,
   "metadata": {},
   "outputs": [
    {
     "data": {
      "image/png": "[encoded data removed]",
      "text/plain": [
       "<matplotlib.figure.Figure at 0x7f7e88e111d0>"
      ]
     },
     "metadata": {},
     "output_type": "display_data"
    }
   ],
   "source": [
    "def corrplot(zx):\n",
    "    corr = zx.convert_objects(convert_numeric=True).corr()\n",
    "    mask = np.zeros_like(corr, dtype=np.bool)\n",
    "    mask[np.triu_indices_from(mask)] = True\n",
    "\n",
    "    # Generate a custom diverging colormap\n",
    "    cmap = sns.diverging_palette(220, 10, as_cmap=True)\n",
    "\n",
    "    # Draw the heatmap with the mask and correct aspect ratio\n",
    "    fig, axes = plt.subplots(ncols=1, nrows=1, figsize=(9,8));\n",
    "    sns.heatmap(corr, mask=mask, cmap=cmap, vmax=.7, vmin=-.7,linewidths=.5, ax=axes)\n",
    "    plt.title('Correlogram for extracted features', fontsize=18)\n",
    "    plt.tight_layout()\n",
    "#     plt.savefig(DATA_FOLDER+'plots/correlogram_general.svg', format='svg', dpi=600)\n",
    "corrplot(ziwd)"
   ]
  },
  {
   "cell_type": "markdown",
   "metadata": {},
   "source": [
    "## Regression example"
   ]
  },
  {
   "cell_type": "markdown",
   "metadata": {},
   "source": [
    "Random Forest"
   ]
  },
  {
   "cell_type": "code",
   "execution_count": 74,
   "metadata": {},
   "outputs": [
    {
     "data": {
      "text/plain": [
       "-2.3983578229980704"
      ]
     },
     "execution_count": 74,
     "metadata": {},
     "output_type": "execute_result"
    }
   ],
   "source": [
    "from sklearn.ensemble import RandomForestRegressor\n",
    "from sklearn.model_selection import RandomizedSearchCV\n",
    "\n",
    "rf = RandomForestRegressor()\n",
    "\n",
    "paramsrf = {\n",
    "    'n_estimators':np.arange(5,300,15),\n",
    "    'max_features':np.arange(0.1, 1.01, 0.05),\n",
    "    'max_depth':np.arange(1,20,2)\n",
    "}\n",
    "grid = RandomizedSearchCV(rf, param_distributions=paramsrf,\n",
    "                    n_iter=10, scoring='r2', n_jobs=-1, cv=5).fit(zx.values, np.ravel(zi.values))\n",
    "grid.best_score_"
   ]
  },
  {
   "cell_type": "markdown",
   "metadata": {},
   "source": [
    "MultiLayer Perceptron"
   ]
  },
  {
   "cell_type": "code",
   "execution_count": 136,
   "metadata": {},
   "outputs": [
    {
     "data": {
      "text/plain": [
       "array([[<matplotlib.axes._subplots.AxesSubplot object at 0x7f7e89470f28>]],\n",
       "      dtype=object)"
      ]
     },
     "execution_count": 136,
     "metadata": {},
     "output_type": "execute_result"
    },
    {
     "data": {
      "image/png": "[encoded data removed]",
      "text/plain": [
       "<matplotlib.figure.Figure at 0x7f7e6f7f8cf8>"
      ]
     },
     "metadata": {},
     "output_type": "display_data"
    }
   ],
   "source": [
    "ix = zi[(zi['Value'] < 100) & (zi['Value'] > 15)].index\n",
    "ziwd2 = ziwd.loc[ix]\n",
    "zi2 = zi.loc[ix]\n",
    "zi2.hist(bins=100)"
   ]
  },
  {
   "cell_type": "code",
   "execution_count": null,
   "metadata": {},
   "outputs": [],
   "source": [
    "from sklearn.neural_network import MLPRegressor\n",
    "\n",
    "mlp = MLPRegressor(max_iter=1000000, tol=1e-7, solver='sgd', learning_rate='adaptive', early_stopping=True)\n",
    "\n",
    "paramsmlp = {\n",
    "    'hidden_layer_sizes':[(10,5,5),(15,10,10),(10,5,5,2),(30,20,20,10),(50,30,20,10)],\n",
    "    'activation':['relu'],\n",
    "    'alpha':np.linspace(0.000001,0.01,100)\n",
    "}\n",
    "from sklearn.preprocessing import RobustScaler, MinMaxScaler, Normalizer\n",
    "\n",
    "# ziwd.head() # ['iwd_NO2','traffic_signals','hour']\n",
    "ix = zi[(zi['Value'] < 100) & (zi['Value'] > 1)].index\n",
    "ziwd2 = ziwd.loc[ix]\n",
    "zi2 = zi.loc[ix]\n",
    "\n",
    "grid = RandomizedSearchCV(mlp, param_distributions=paramsmlp,\n",
    "                    n_iter=100, scoring='r2', n_jobs=-1, cv=3).fit(MinMaxScaler().fit_transform(ziwd2), MinMaxScaler().fit_transform(zi2))\n",
    "print(grid.best_estimator_)\n",
    "print(grid.best_score_)\n",
    "print(grid.cv_results_['mean_train_score'][:10])\n",
    "print(grid.cv_results_['mean_test_score'][:10])"
   ]
  },
  {
   "cell_type": "markdown",
   "metadata": {},
   "source": [
    "## Feature importance analysis"
   ]
  },
  {
   "cell_type": "code",
   "execution_count": 76,
   "metadata": {},
   "outputs": [
    {
     "data": {
      "text/plain": [
       "<matplotlib.axes._subplots.AxesSubplot at 0x7fc0f6f3d400>"
      ]
     },
     "execution_count": 76,
     "metadata": {},
     "output_type": "execute_result"
    },
    {
     "data": {
      "image/png": "[encoded data removed]",
      "text/plain": [
       "<matplotlib.figure.Figure at 0x7fc0f6aad7b8>"
      ]
     },
     "metadata": {},
     "output_type": "display_data"
    }
   ],
   "source": [
    "def feature_importance_plot(grid, zx):\n",
    "    importances = grid.best_estimator_.feature_importances_\n",
    "    indices = zx.columns[np.argsort(importances)[::-1]]\n",
    "    f = pd.DataFrame(importances, index=indices, columns=['importance']).reset_index().sort_values('importance')\n",
    "\n",
    "    plt.figure(figsize=(20,5))\n",
    "    return sns.barplot(x='index',y='importance',data=f, palette='Spectral')\n",
    "feature_importance_plot(grid,zx)"
   ]
  }
 ],
 "metadata": {
  "kernelspec": {
   "display_name": "Python 3",
   "language": "python",
   "name": "python3"
  },
  "language_info": {
   "codemirror_mode": {
    "name": "ipython",
    "version": 3
   },
   "file_extension": ".py",
   "mimetype": "text/x-python",
   "name": "python",
   "nbconvert_exporter": "python",
   "pygments_lexer": "ipython3",
   "version": "3.6.5"
  }
 },
 "nbformat": 4,
 "nbformat_minor": 2
}
