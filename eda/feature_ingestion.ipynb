{
 "cells": [
  {
   "cell_type": "code",
   "execution_count": 1,
   "metadata": {},
   "outputs": [],
   "source": [
    "import pandas as pd\n",
    "import numpy as np \n",
    "\n",
    "import geopandas as gpd\n",
    "import shapely\n",
    "import fiona\n",
    "import folium\n",
    "\n",
    "import seaborn as sns\n",
    "import matplotlib.pyplot as plt"
   ]
  },
  {
   "cell_type": "markdown",
   "metadata": {},
   "source": [
    "## Dataset"
   ]
  },
  {
   "cell_type": "code",
   "execution_count": 4,
   "metadata": {},
   "outputs": [],
   "source": [
    "LSOA_SHAPE_FOLDER = '/home/adelsondias/Repos/newcastle/air-quality/shape/Middle_Layer_Super_Output_Areas_December_2011_Full_Extent_Boundaries_in_England_and_Wales/'\n",
    "DATA_FOLDER = '/home/adelsondias/Repos/newcastle/air-quality/data_7days/'"
   ]
  },
  {
   "cell_type": "markdown",
   "metadata": {},
   "source": [
    "Importing output areas for spatial delimitation"
   ]
  },
  {
   "cell_type": "code",
   "execution_count": 5,
   "metadata": {},
   "outputs": [
    {
     "data": {
      "image/png": "[encoded data removed]",
      "text/plain": [
       "<matplotlib.figure.Figure at 0x7f4fa7b65a20>"
      ]
     },
     "metadata": {},
     "output_type": "display_data"
    }
   ],
   "source": [
    "lsoa = gpd.read_file(LSOA_SHAPE_FOLDER+'Middle_Layer_Super_Output_Areas_December_2011_Full_Extent_Boundaries_in_England_and_Wales.shp')\n",
    "lsoa = lsoa[lsoa['msoa11nm'].str.contains('Newcastle upon Tyne')]\n",
    "lsoa = lsoa.to_crs(fiona.crs.from_epsg(4326))\n",
    "lsoa.crs = {'init': 'epsg:4326', 'no_defs': True}\n",
    "\n",
    "fig, axes = plt.subplots(ncols=1, nrows=1, figsize=(7,5))\n",
    "lsoa.plot(ax=axes,color='black')\n",
    "plt.axis('off')\n",
    "plt.title('Newcastle upon Tyne: Middle Layer Super Output Area')\n",
    "plt.tight_layout()\n",
    "plt.savefig(DATA_FOLDER+'plots/mlsoa_newcastle.svg', format='svg', dpi=600)"
   ]
  },
  {
   "cell_type": "markdown",
   "metadata": {},
   "source": [
    "Parsing metadata positions to geopandas/shapely geometries and filtering them by output areas"
   ]
  },
  {
   "cell_type": "code",
   "execution_count": 6,
   "metadata": {},
   "outputs": [
    {
     "data": {
      "text/plain": [
       "(147, 5)"
      ]
     },
     "execution_count": 6,
     "metadata": {},
     "output_type": "execute_result"
    }
   ],
   "source": [
    "metadata = pd.read_csv(DATA_FOLDER+'sensors.csv')\n",
    "\n",
    "# spatial parsing - geometry column\n",
    "metadata = gpd.GeoDataFrame(metadata[['name','type','active','lon','lat']],\n",
    "                        geometry=[shapely.geometry.Point(xy) for xy in zip(metadata['lon'], metadata['lat'])], \n",
    "                        crs={'init': 'epsg:4326'}).to_crs(fiona.crs.from_epsg(4326))\n",
    "\n",
    "metadata = gpd.sjoin(metadata, lsoa, how='inner' ,op='intersects')[['name','type','active','lon','lat','geometry']]\n",
    "metadata = metadata.set_index('name')\n",
    "\n",
    "metadata.shape"
   ]
  },
  {
   "cell_type": "markdown",
   "metadata": {},
   "source": [
    "Concating street features to metadata"
   ]
  },
  {
   "cell_type": "code",
   "execution_count": 7,
   "metadata": {},
   "outputs": [
    {
     "data": {
      "text/plain": [
       "(147, 9)"
      ]
     },
     "execution_count": 7,
     "metadata": {},
     "output_type": "execute_result"
    }
   ],
   "source": [
    "sfeat = pd.read_csv(DATA_FOLDER+'street_features_newcastle.csv',index_col=0)\n",
    "sfeat = sfeat.loc[metadata.index]\n",
    "sfeat.shape"
   ]
  },
  {
   "cell_type": "markdown",
   "metadata": {},
   "source": [
    "Resampling sensors samples to a specific time frequency, acquiring medians to avoid outliers, and also samples inside output area"
   ]
  },
  {
   "cell_type": "code",
   "execution_count": 8,
   "metadata": {},
   "outputs": [
    {
     "data": {
      "text/plain": [
       "(147,)"
      ]
     },
     "execution_count": 8,
     "metadata": {},
     "output_type": "execute_result"
    }
   ],
   "source": [
    "sensors = pd.read_csv(DATA_FOLDER+'data.csv')\n",
    "sensors['Timestamp'] = pd.to_datetime(sensors['Timestamp'])\n",
    "sensors = sensors.set_index(['Variable','Sensor Name','Timestamp'])\n",
    "\n",
    "# resampling by freq\n",
    "freq='D'\n",
    "level_values = sensors.index.get_level_values\n",
    "sensors = (sensors.groupby([level_values(i) for i in [0,1]]\n",
    "                   +[pd.Grouper(freq=freq, level=-1)]).median())\n",
    "\n",
    "# filtering by Newcastle's region\n",
    "m = metadata.index.values\n",
    "s = sensors.reset_index()\n",
    "s = s.loc[s['Sensor Name'].isin(m)]\n",
    "sensors = s.set_index(['Variable','Sensor Name','Timestamp'])\n",
    "\n",
    "sensors.reset_index()['Sensor Name'].unique().shape"
   ]
  },
  {
   "cell_type": "markdown",
   "metadata": {},
   "source": [
    "Reducing metadata and sensors dataframes to consider less variables"
   ]
  },
  {
   "cell_type": "code",
   "execution_count": 9,
   "metadata": {},
   "outputs": [],
   "source": [
    "variables = ['CO', 'Humidity', 'Journey Time', 'NO2', 'O3', \n",
    "             'PM10', 'Particle Count', 'Sound', 'Temperature', \n",
    "             'Wind Direction', 'Wind Speed']\n",
    "\n",
    "sensors = sensors.loc[variables]\n",
    "metadata = metadata.loc[sensors.index.get_level_values(1).unique()]"
   ]
  },
  {
   "cell_type": "markdown",
   "metadata": {},
   "source": [
    "## 1. Feature ingestion\n",
    "\n",
    "This consider a list of k neighbors measures for each time and variable, to predict a single target specified"
   ]
  },
  {
   "cell_type": "code",
   "execution_count": 10,
   "metadata": {
    "scrolled": true
   },
   "outputs": [],
   "source": [
    "def ingestion(sensors, metadata, sfeat, variables, k, target, method):\n",
    "    idx = pd.IndexSlice\n",
    "    zi = sensors.loc[target]\n",
    "    zx = pd.DataFrame()\n",
    "    for s in sensors.index.get_level_values(1).unique():\n",
    "        i = metadata.loc[s]\n",
    "\n",
    "        for t in sensors.index.get_level_values(2).unique():\n",
    "            zkj = pd.DataFrame()\n",
    "            zk = pd.DataFrame()\n",
    "            zk['timestamp'] = [t]*k\n",
    "            zk['zi'] = [i.name]*k\n",
    "            zk['Sensor Name'] = range(0,k)\n",
    "            zk.set_index(['zi','timestamp','Sensor Name'],inplace=True)\n",
    "\n",
    "            for var in variables['sensors']:\n",
    "\n",
    "                sdf = sensors.loc[idx[var,:,t],:] # sensors of the var variable at  time t \n",
    "                mdf = metadata.loc[sdf.index.get_level_values(1).unique()] # metadata about them\n",
    "\n",
    "                dij = mdf['geometry'].apply(lambda x: i['geometry'].distance(x)).sort_values() # nearest measures for (var,t)\n",
    "                dij = dij.loc[(dij.index!=i.name) & (dij>0)] # excluding the sensor i\n",
    "                if method=='nn':\n",
    "                    dij = dij[:k]\n",
    "                elif method=='randomized':\n",
    "                    dij = dij[:10].sample(k, random_state=0)\n",
    "\n",
    "                zj = sdf.loc[idx[:,dij.index,:],:].reset_index([0,2])['Value']\n",
    "                zj.name = var\n",
    "\n",
    "                zj.index = range(0,k)\n",
    "                dij.index = range(0,k)\n",
    "\n",
    "                zk.loc[idx[i.name,t],'d_{}'.format(var)] = dij.values\n",
    "                zk.loc[idx[i.name,t],var] = zj.values\n",
    "                zkj = zk.melt().set_index('variable').T\n",
    "                zkj.index = [t]\n",
    "                zkj['zi'] = i.name\n",
    "                zkj = zkj.reset_index().set_index(['zi','index'])\n",
    "            zx = zx.append(zkj)\n",
    "    if 'hour' in variables['exogenous']:\n",
    "        zx['hour'] = zx.index.get_level_values(1).hour\n",
    "    if 'dow' in variables['exogenous']:\n",
    "        zx['dow'] = zx.index.get_level_values(1).dayofweek\n",
    "    if 'day' in variables['exogenous']:\n",
    "        zx['day'] = zx.index.get_level_values(1).day\n",
    "    if 'month' in variables['exogenous']:\n",
    "        zx['month'] = zx.index.get_level_values(1).month\n",
    "    if 'year' in variables['exogenous']:\n",
    "        zx['year'] = zx.index.get_level_values(1).year\n",
    "      \n",
    "    if 'street' in variables['exogenous']:\n",
    "        try:\n",
    "            zx = zx.reset_index([1]).join(sfeat).set_index('index',append=True).fillna(0)\n",
    "        except:\n",
    "            print('Warning: \\'street\\' variables are not available in metadata')\n",
    "            pass\n",
    "\n",
    "    zx = zx.loc[zi.index]\n",
    "    zi = zi.loc[idx[zx.index.get_level_values(0).unique(),zx.index.get_level_values(1).unique()],:]    \n",
    "\n",
    "    return zx, zi"
   ]
  },
  {
   "cell_type": "code",
   "execution_count": 11,
   "metadata": {},
   "outputs": [
    {
     "name": "stdout",
     "output_type": "stream",
     "text": [
      "(472, 61) (472, 1)\n"
     ]
    },
    {
     "data": {
      "text/html": [
       "<div>\n",
       "<style scoped>\n",
       "    .dataframe tbody tr th:only-of-type {\n",
       "        vertical-align: middle;\n",
       "    }\n",
       "\n",
       "    .dataframe tbody tr th {\n",
       "        vertical-align: top;\n",
       "    }\n",
       "\n",
       "    .dataframe thead th {\n",
       "        text-align: right;\n",
       "    }\n",
       "</style>\n",
       "<table border=\"1\" class=\"dataframe\">\n",
       "  <thead>\n",
       "    <tr style=\"text-align: right;\">\n",
       "      <th></th>\n",
       "      <th></th>\n",
       "      <th>d_NO2</th>\n",
       "      <th>d_NO2</th>\n",
       "      <th>d_NO2</th>\n",
       "      <th>d_NO2</th>\n",
       "      <th>d_NO2</th>\n",
       "      <th>NO2</th>\n",
       "      <th>NO2</th>\n",
       "      <th>NO2</th>\n",
       "      <th>NO2</th>\n",
       "      <th>NO2</th>\n",
       "      <th>...</th>\n",
       "      <th>day</th>\n",
       "      <th>cycleway</th>\n",
       "      <th>primary</th>\n",
       "      <th>secondary</th>\n",
       "      <th>service</th>\n",
       "      <th>footway</th>\n",
       "      <th>residential</th>\n",
       "      <th>traffic_signals</th>\n",
       "      <th>bus_stop</th>\n",
       "      <th>crossing</th>\n",
       "    </tr>\n",
       "    <tr>\n",
       "      <th>Sensor Name</th>\n",
       "      <th>Timestamp</th>\n",
       "      <th></th>\n",
       "      <th></th>\n",
       "      <th></th>\n",
       "      <th></th>\n",
       "      <th></th>\n",
       "      <th></th>\n",
       "      <th></th>\n",
       "      <th></th>\n",
       "      <th></th>\n",
       "      <th></th>\n",
       "      <th></th>\n",
       "      <th></th>\n",
       "      <th></th>\n",
       "      <th></th>\n",
       "      <th></th>\n",
       "      <th></th>\n",
       "      <th></th>\n",
       "      <th></th>\n",
       "      <th></th>\n",
       "      <th></th>\n",
       "      <th></th>\n",
       "    </tr>\n",
       "  </thead>\n",
       "  <tbody>\n",
       "    <tr>\n",
       "      <th rowspan=\"5\" valign=\"top\">aq_mesh1756150</th>\n",
       "      <th>2018-07-05</th>\n",
       "      <td>0.002386</td>\n",
       "      <td>0.003726</td>\n",
       "      <td>0.002772</td>\n",
       "      <td>0.004396</td>\n",
       "      <td>0.001956</td>\n",
       "      <td>31.668412</td>\n",
       "      <td>22.350637</td>\n",
       "      <td>10.320175</td>\n",
       "      <td>35.866126</td>\n",
       "      <td>31.843438</td>\n",
       "      <td>...</td>\n",
       "      <td>5</td>\n",
       "      <td>0</td>\n",
       "      <td>0</td>\n",
       "      <td>3</td>\n",
       "      <td>3</td>\n",
       "      <td>6</td>\n",
       "      <td>0</td>\n",
       "      <td>0</td>\n",
       "      <td>6</td>\n",
       "      <td>0</td>\n",
       "    </tr>\n",
       "    <tr>\n",
       "      <th>2018-07-06</th>\n",
       "      <td>0.002386</td>\n",
       "      <td>0.003726</td>\n",
       "      <td>0.002772</td>\n",
       "      <td>0.004396</td>\n",
       "      <td>0.001956</td>\n",
       "      <td>34.312820</td>\n",
       "      <td>23.064601</td>\n",
       "      <td>26.798485</td>\n",
       "      <td>32.771639</td>\n",
       "      <td>32.373963</td>\n",
       "      <td>...</td>\n",
       "      <td>6</td>\n",
       "      <td>0</td>\n",
       "      <td>0</td>\n",
       "      <td>3</td>\n",
       "      <td>3</td>\n",
       "      <td>6</td>\n",
       "      <td>0</td>\n",
       "      <td>0</td>\n",
       "      <td>6</td>\n",
       "      <td>0</td>\n",
       "    </tr>\n",
       "    <tr>\n",
       "      <th>2018-07-07</th>\n",
       "      <td>0.002386</td>\n",
       "      <td>0.003726</td>\n",
       "      <td>0.002772</td>\n",
       "      <td>0.004396</td>\n",
       "      <td>0.001956</td>\n",
       "      <td>45.821804</td>\n",
       "      <td>32.583505</td>\n",
       "      <td>33.815808</td>\n",
       "      <td>39.980484</td>\n",
       "      <td>41.079689</td>\n",
       "      <td>...</td>\n",
       "      <td>7</td>\n",
       "      <td>0</td>\n",
       "      <td>0</td>\n",
       "      <td>3</td>\n",
       "      <td>3</td>\n",
       "      <td>6</td>\n",
       "      <td>0</td>\n",
       "      <td>0</td>\n",
       "      <td>6</td>\n",
       "      <td>0</td>\n",
       "    </tr>\n",
       "    <tr>\n",
       "      <th>2018-07-08</th>\n",
       "      <td>0.002386</td>\n",
       "      <td>0.003726</td>\n",
       "      <td>0.002772</td>\n",
       "      <td>0.004396</td>\n",
       "      <td>0.001956</td>\n",
       "      <td>31.645570</td>\n",
       "      <td>29.806548</td>\n",
       "      <td>34.748773</td>\n",
       "      <td>42.348527</td>\n",
       "      <td>46.875166</td>\n",
       "      <td>...</td>\n",
       "      <td>8</td>\n",
       "      <td>0</td>\n",
       "      <td>0</td>\n",
       "      <td>3</td>\n",
       "      <td>3</td>\n",
       "      <td>6</td>\n",
       "      <td>0</td>\n",
       "      <td>0</td>\n",
       "      <td>6</td>\n",
       "      <td>0</td>\n",
       "    </tr>\n",
       "    <tr>\n",
       "      <th>2018-07-09</th>\n",
       "      <td>0.002386</td>\n",
       "      <td>0.003726</td>\n",
       "      <td>0.002772</td>\n",
       "      <td>0.004396</td>\n",
       "      <td>0.001956</td>\n",
       "      <td>27.904558</td>\n",
       "      <td>24.049746</td>\n",
       "      <td>27.271421</td>\n",
       "      <td>32.671202</td>\n",
       "      <td>29.581536</td>\n",
       "      <td>...</td>\n",
       "      <td>9</td>\n",
       "      <td>0</td>\n",
       "      <td>0</td>\n",
       "      <td>3</td>\n",
       "      <td>3</td>\n",
       "      <td>6</td>\n",
       "      <td>0</td>\n",
       "      <td>0</td>\n",
       "      <td>6</td>\n",
       "      <td>0</td>\n",
       "    </tr>\n",
       "  </tbody>\n",
       "</table>\n",
       "<p>5 rows × 61 columns</p>\n",
       "</div>"
      ],
      "text/plain": [
       "                              d_NO2     d_NO2     d_NO2     d_NO2     d_NO2  \\\n",
       "Sensor Name    Timestamp                                                      \n",
       "aq_mesh1756150 2018-07-05  0.002386  0.003726  0.002772  0.004396  0.001956   \n",
       "               2018-07-06  0.002386  0.003726  0.002772  0.004396  0.001956   \n",
       "               2018-07-07  0.002386  0.003726  0.002772  0.004396  0.001956   \n",
       "               2018-07-08  0.002386  0.003726  0.002772  0.004396  0.001956   \n",
       "               2018-07-09  0.002386  0.003726  0.002772  0.004396  0.001956   \n",
       "\n",
       "                                 NO2        NO2        NO2        NO2  \\\n",
       "Sensor Name    Timestamp                                                \n",
       "aq_mesh1756150 2018-07-05  31.668412  22.350637  10.320175  35.866126   \n",
       "               2018-07-06  34.312820  23.064601  26.798485  32.771639   \n",
       "               2018-07-07  45.821804  32.583505  33.815808  39.980484   \n",
       "               2018-07-08  31.645570  29.806548  34.748773  42.348527   \n",
       "               2018-07-09  27.904558  24.049746  27.271421  32.671202   \n",
       "\n",
       "                                 NO2    ...     day  cycleway  primary  \\\n",
       "Sensor Name    Timestamp                ...                              \n",
       "aq_mesh1756150 2018-07-05  31.843438    ...       5         0        0   \n",
       "               2018-07-06  32.373963    ...       6         0        0   \n",
       "               2018-07-07  41.079689    ...       7         0        0   \n",
       "               2018-07-08  46.875166    ...       8         0        0   \n",
       "               2018-07-09  29.581536    ...       9         0        0   \n",
       "\n",
       "                           secondary  service  footway  residential  \\\n",
       "Sensor Name    Timestamp                                              \n",
       "aq_mesh1756150 2018-07-05          3        3        6            0   \n",
       "               2018-07-06          3        3        6            0   \n",
       "               2018-07-07          3        3        6            0   \n",
       "               2018-07-08          3        3        6            0   \n",
       "               2018-07-09          3        3        6            0   \n",
       "\n",
       "                           traffic_signals  bus_stop  crossing  \n",
       "Sensor Name    Timestamp                                        \n",
       "aq_mesh1756150 2018-07-05                0         6         0  \n",
       "               2018-07-06                0         6         0  \n",
       "               2018-07-07                0         6         0  \n",
       "               2018-07-08                0         6         0  \n",
       "               2018-07-09                0         6         0  \n",
       "\n",
       "[5 rows x 61 columns]"
      ]
     },
     "execution_count": 11,
     "metadata": {},
     "output_type": "execute_result"
    }
   ],
   "source": [
    "variables = {\n",
    "    'sensors':['NO2','Temperature','O3','CO','PM10'],\n",
    "    'exogenous':['street','day','dow']\n",
    "}\n",
    "\n",
    "zx, zi = ingestion(sensors, metadata, sfeat, variables, k=5, target='NO2', method='randomized')\n",
    "print(zx.shape,zi.shape)\n",
    "zx.head()"
   ]
  },
  {
   "cell_type": "code",
   "execution_count": 22,
   "metadata": {},
   "outputs": [],
   "source": [
    "if False: # save\n",
    "    zx.to_csv(DATA_FOLDER+'zx_D_7days.csv')\n",
    "    zi.to_csv(DATA_FOLDER+'zi_D_7days.csv')\n",
    "if False: # load\n",
    "    zx = pd.read_csv(DATA_FOLDER+'zx_D_7days.csv',index_col=['Sensor Name','Timestamp'])\n",
    "    zi = pd.read_csv(DATA_FOLDER+'zi_D_7days.csv',index_col=['Sensor Name','Timestamp'])"
   ]
  },
  {
   "cell_type": "markdown",
   "metadata": {},
   "source": [
    "### 1.a. Inverse Distance Weighting"
   ]
  },
  {
   "cell_type": "code",
   "execution_count": 35,
   "metadata": {},
   "outputs": [],
   "source": [
    "def iwd_features(zx, sensor_variables):\n",
    "    ziwd = pd.DataFrame(index=zx.index)\n",
    "    for var in sensor_variables:\n",
    "        ziwd['iwd_{}'.format(var)] = (((zx['d_{}'.format(var)].values*zx[var].values).sum(axis=1))/zx['d_{}'.format(var)].values.sum(axis=1))\n",
    "    return ziwd\n",
    "ziwd = iwd_features(zx, variables['sensors'])\n",
    "ziwd = ziwd.join(zx[zx.columns[-11:]])\n",
    "\n",
    "if False: # save\n",
    "    ziwd.to_csv(DATA_FOLDER+'zx_iwd_D_7days.csv')"
   ]
  },
  {
   "cell_type": "markdown",
   "metadata": {},
   "source": [
    "### 1.b. Spatial Averaging"
   ]
  },
  {
   "cell_type": "code",
   "execution_count": 40,
   "metadata": {},
   "outputs": [],
   "source": [
    "def spavg_features(zx, sensor_variables):\n",
    "    zavg = pd.DataFrame(index=zx.index)\n",
    "    for var in sensor_variables:\n",
    "        zavg['spavg_{}'.format(var)] = zx[var].values.sum(axis=1)/zx[var].shape[1]\n",
    "    return zavg   \n",
    "zavg = spavg_features(zx, variables['sensors'])\n",
    "zavg = zavg.join(zx[zx.columns[-11:]])\n",
    "\n",
    "if False: # save\n",
    "    zavg.to_csv(DATA_FOLDER+'zx_savg_D_7days.csv')"
   ]
  },
  {
   "cell_type": "markdown",
   "metadata": {},
   "source": [
    "### 1.b. Nearest Neighbor"
   ]
  },
  {
   "cell_type": "code",
   "execution_count": 63,
   "metadata": {},
   "outputs": [],
   "source": [
    "def nn_features(zx, sensor_variables):\n",
    "    znn = pd.DataFrame(index=zx.index)\n",
    "    for var in sensor_variables:\n",
    "        znn['nn_{}'.format(var)] = zx[['d_{}'.format(var),var]].apply(lambda x: x[var].values[x['d_{}'.format(var)].values.argmin()], axis=1)\n",
    "    return znn\n",
    "znn = nn_features(zx, variables['sensors'])\n",
    "znn = znn.join(zx[zx.columns[-11:]])\n",
    "\n",
    "if False: # save\n",
    "    znn.to_csv(DATA_FOLDER+'zx_nn_D_7days.csv')"
   ]
  },
  {
   "cell_type": "code",
   "execution_count": 31,
   "metadata": {},
   "outputs": [
    {
     "data": {
      "image/png": "[encoded data removed]",
      "text/plain": [
       "<matplotlib.figure.Figure at 0x7f4fa56e0cf8>"
      ]
     },
     "metadata": {},
     "output_type": "display_data"
    }
   ],
   "source": [
    "def corrplot(axes, zx, variables):\n",
    "    corr = zx[variables].corr()\n",
    "    mask = np.zeros_like(corr, dtype=np.bool)\n",
    "    mask[np.triu_indices_from(mask)] = True\n",
    "\n",
    "    # Generate a custom diverging colormap\n",
    "    cmap = sns.diverging_palette(220, 10, as_cmap=True)\n",
    "\n",
    "    # Draw the heatmap with the mask and correct aspect ratio\n",
    "    fig, axes = plt.subplots(ncols=1, nrows=1, figsize=(12,10));\n",
    "    sns.heatmap(corr, mask=mask, cmap=cmap, vmax=.7, vmin=-.7,linewidths=.5, ax=axes)\n",
    "    plt.title('Correlogram for extracted features', fontsize=18)\n",
    "    plt.tight_layout()\n",
    "    plt.savefig(DATA_FOLDER+'plots/correlogram_general.svg', format='svg', dpi=600)\n",
    "corrplot(axes, zx, ['NO2','Temperature','O3','CO','PM10','cycleway','primary','secondary','service','footway','residential','traffic_signals','bus_stop','crossing'])"
   ]
  },
  {
   "cell_type": "markdown",
   "metadata": {},
   "source": [
    "## Regression example"
   ]
  },
  {
   "cell_type": "markdown",
   "metadata": {},
   "source": [
    "Random Forest"
   ]
  },
  {
   "cell_type": "code",
   "execution_count": 73,
   "metadata": {},
   "outputs": [
    {
     "data": {
      "text/plain": [
       "-0.4851750737233052"
      ]
     },
     "execution_count": 73,
     "metadata": {},
     "output_type": "execute_result"
    }
   ],
   "source": [
    "from sklearn.ensemble import RandomForestRegressor\n",
    "from sklearn.model_selection import RandomizedSearchCV\n",
    "\n",
    "rf = RandomForestRegressor()\n",
    "\n",
    "paramsrf = {\n",
    "    'n_estimators':np.arange(5,300,15),\n",
    "    'max_features':np.arange(0.1, 1.01, 0.05),\n",
    "    'max_depth':np.arange(1,20,2)\n",
    "}\n",
    "grid = RandomizedSearchCV(rf, param_distributions=paramsrf,\n",
    "                    n_iter=1000, scoring='r2', n_jobs=-1, cv=5).fit(ziwd.values, np.ravel(zi.values))\n",
    "grid.best_score_"
   ]
  },
  {
   "cell_type": "markdown",
   "metadata": {},
   "source": [
    "MultiLayer Perceptron"
   ]
  },
  {
   "cell_type": "code",
   "execution_count": 71,
   "metadata": {},
   "outputs": [
    {
     "data": {
      "text/plain": [
       "-1.0181936537185678"
      ]
     },
     "execution_count": 71,
     "metadata": {},
     "output_type": "execute_result"
    }
   ],
   "source": [
    "from sklearn.neural_network import MLPRegressor\n",
    "\n",
    "mlp = MLPRegressor(max_iter=1000)\n",
    "\n",
    "paramsmlp = {\n",
    "    'hidden_layer_sizes':[(3,1),(3,3),(3,5),(5,1),(5,3),(5,5),(10,1),(10,3),(10,5),(20,3),(20,5),(20,10)],\n",
    "    'activation':['identity','relu','logistic'],\n",
    "    'alpha':np.logspace(0.0001,0.1,50)\n",
    "}\n",
    "\n",
    "grid = RandomizedSearchCV(mlp, param_distributions=paramsmlp,\n",
    "                    n_iter=500, scoring='r2', n_jobs=-1, cv=5).fit(zx.values, np.ravel(zi.values))\n",
    "grid.best_score_"
   ]
  },
  {
   "cell_type": "markdown",
   "metadata": {},
   "source": [
    "## Feature importance analysis"
   ]
  },
  {
   "cell_type": "code",
   "execution_count": 74,
   "metadata": {},
   "outputs": [
    {
     "data": {
      "text/plain": [
       "<matplotlib.axes._subplots.AxesSubplot at 0x7fbed898b240>"
      ]
     },
     "execution_count": 74,
     "metadata": {},
     "output_type": "execute_result"
    },
    {
     "data": {
      "image/png": "[encoded data removed]",
      "text/plain": [
       "<matplotlib.figure.Figure at 0x7fbed6055c88>"
      ]
     },
     "metadata": {},
     "output_type": "display_data"
    }
   ],
   "source": [
    "def featureimp_plot(grid, zx):\n",
    "    importances = grid.best_estimator_.feature_importances_\n",
    "    indices = zx.columns[np.argsort(importances)[::-1]]\n",
    "    f = pd.DataFrame(importances, index=indices, columns=['importance']).reset_index().sort_values('importance')\n",
    "\n",
    "    plt.figure(figsize=(20,5))\n",
    "    return sns.barplot(x='index',y='importance',data=f, palette='Spectral')\n",
    "featureimp_plot(grid,ziwd)"
   ]
  }
 ],
 "metadata": {
  "kernelspec": {
   "display_name": "Python 3",
   "language": "python",
   "name": "python3"
  },
  "language_info": {
   "codemirror_mode": {
    "name": "ipython",
    "version": 3
   },
   "file_extension": ".py",
   "mimetype": "text/x-python",
   "name": "python",
   "nbconvert_exporter": "python",
   "pygments_lexer": "ipython3",
   "version": "3.6.5"
  }
 },
 "nbformat": 4,
 "nbformat_minor": 2
}
