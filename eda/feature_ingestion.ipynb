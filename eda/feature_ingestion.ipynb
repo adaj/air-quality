{
 "cells": [
  {
   "cell_type": "code",
   "execution_count": 1,
   "metadata": {},
   "outputs": [],
   "source": [
    "import pandas as pd\n",
    "import numpy as np \n",
    "\n",
    "import geopandas as gpd\n",
    "import shapely\n",
    "import fiona\n",
    "import folium"
   ]
  },
  {
   "cell_type": "markdown",
   "metadata": {},
   "source": [
    "## Dataset"
   ]
  },
  {
   "cell_type": "code",
   "execution_count": 11,
   "metadata": {},
   "outputs": [],
   "source": [
    "SHAPE_FOLDER = '/home/adelsondias/Repos/newcastle/air-quality/shape/Middle_Layer_Super_Output_Areas_December_2011_Full_Extent_Boundaries_in_England_and_Wales'\n",
    "DATA_FOLDER = '/home/adelsondias/Repos/newcastle/air-quality/data_7days'"
   ]
  },
  {
   "cell_type": "markdown",
   "metadata": {},
   "source": [
    "Importing output areas for spatial delimitation"
   ]
  },
  {
   "cell_type": "code",
   "execution_count": 12,
   "metadata": {},
   "outputs": [
    {
     "data": {
      "text/plain": [
       "<matplotlib.axes._subplots.AxesSubplot at 0x7fc984506588>"
      ]
     },
     "execution_count": 12,
     "metadata": {},
     "output_type": "execute_result"
    },
    {
     "data": {
      "image/png": "[encoded data removed]",
      "text/plain": [
       "<matplotlib.figure.Figure at 0x7fc985a8b208>"
      ]
     },
     "metadata": {},
     "output_type": "display_data"
    }
   ],
   "source": [
    "lsoa = gpd.read_file(SHAPE_FOLDER+'/Middle_Layer_Super_Output_Areas_December_2011_Full_Extent_Boundaries_in_England_and_Wales.shp')\n",
    "lsoa = lsoa[lsoa['msoa11nm'].str.contains('Newcastle upon Tyne')]\n",
    "lsoa = lsoa.to_crs(fiona.crs.from_epsg(4326))\n",
    "lsoa.crs = {'init': 'epsg:4326', 'no_defs': True}\n",
    "\n",
    "lsoa.plot()"
   ]
  },
  {
   "cell_type": "markdown",
   "metadata": {},
   "source": [
    "Parsing metadata positions to geopandas/shapely geometries and filtering them by output areas"
   ]
  },
  {
   "cell_type": "code",
   "execution_count": 13,
   "metadata": {},
   "outputs": [
    {
     "data": {
      "text/plain": [
       "(147, 5)"
      ]
     },
     "execution_count": 13,
     "metadata": {},
     "output_type": "execute_result"
    }
   ],
   "source": [
    "metadata = pd.read_csv(DATA_FOLDER+'/sensors.csv')\n",
    "\n",
    "# spatial parsing - geometry column\n",
    "metadata = gpd.GeoDataFrame(metadata[['name','type','active','lon','lat']],\n",
    "                        geometry=[shapely.geometry.Point(xy) for xy in zip(metadata['lon'], metadata['lat'])], \n",
    "                        crs={'init': 'epsg:4326'}).to_crs(fiona.crs.from_epsg(4326))\n",
    "\n",
    "metadata = gpd.sjoin(metadata, lsoa, how='inner' ,op='intersects')[['name','type','active','lon','lat','geometry']]\n",
    "metadata = metadata.set_index('name')\n",
    "\n",
    "metadata.shape"
   ]
  },
  {
   "cell_type": "markdown",
   "metadata": {},
   "source": [
    "Resampling sensors samples to a specific time frequency, acquiring medians to avoid outliers, and also samples inside output area"
   ]
  },
  {
   "cell_type": "code",
   "execution_count": 14,
   "metadata": {},
   "outputs": [
    {
     "data": {
      "text/plain": [
       "(147,)"
      ]
     },
     "execution_count": 14,
     "metadata": {},
     "output_type": "execute_result"
    }
   ],
   "source": [
    "sensors = pd.read_csv(DATA_FOLDER+'/data.csv')\n",
    "sensors['Timestamp'] = pd.to_datetime(sensors['Timestamp'])\n",
    "sensors = sensors.set_index(['Variable','Sensor Name','Timestamp'])\n",
    "\n",
    "# resampling by freq\n",
    "freq='H'\n",
    "level_values = sensors.index.get_level_values\n",
    "sensors = (sensors.groupby([level_values(i) for i in [0,1]]\n",
    "                   +[pd.Grouper(freq=freq, level=-1)]).median())\n",
    "\n",
    "# filtering by Newcastle's region\n",
    "m = metadata.index.values\n",
    "s = sensors.reset_index()\n",
    "s = s.loc[s['Sensor Name'].isin(m)]\n",
    "sensors = s.set_index(['Variable','Sensor Name','Timestamp'])\n",
    "\n",
    "sensors.reset_index()['Sensor Name'].unique().shape"
   ]
  },
  {
   "cell_type": "markdown",
   "metadata": {},
   "source": [
    "Reducing metadata and sensors dataframes to consider less variables"
   ]
  },
  {
   "cell_type": "code",
   "execution_count": 15,
   "metadata": {},
   "outputs": [],
   "source": [
    "variables = ['CO', 'Humidity', 'Journey Time', 'NO2', 'O3', \n",
    "             'PM10', 'Particle Count', 'Sound', 'Temperature', \n",
    "             'Wind Direction', 'Wind Speed']\n",
    "# variables = ['NO2', 'O3', 'Temperature']\n",
    "\n",
    "sensors = sensors.loc[variables]\n",
    "metadata = metadata.loc[sensors.index.get_level_values(1).unique()]"
   ]
  },
  {
   "cell_type": "markdown",
   "metadata": {},
   "source": [
    "## Feature ingestion\n",
    "\n",
    "This consider a list of k neighbors measures for each time and variable, to predict a single target specified"
   ]
  },
  {
   "cell_type": "code",
   "execution_count": 17,
   "metadata": {
    "scrolled": true
   },
   "outputs": [],
   "source": [
    "def ingestion(sensors, metadata, variables, k, target):\n",
    "    idx = pd.IndexSlice\n",
    "    zi = sensors.loc[target]\n",
    "    zx = pd.DataFrame()\n",
    "    for s in sensors.index.get_level_values(1).unique():\n",
    "        i = metadata.loc[s]\n",
    "#         print('for sensor {}'.format(i.name))\n",
    "\n",
    "        for t in sensors.index.get_level_values(2).unique():\n",
    "    #         print('-- for timestamp {}'.format(t))\n",
    "            zkj = pd.DataFrame()\n",
    "            zk = pd.DataFrame()\n",
    "            zk['timestamp'] = [t]*k\n",
    "            zk['zi'] = [i.name]*k\n",
    "            zk['Sensor Name'] = range(0,k)\n",
    "            zk.set_index(['zi','timestamp','Sensor Name'],inplace=True)\n",
    "\n",
    "            for var in variables:\n",
    "\n",
    "                sdf = sensors.loc[idx[var,:,t],:] # sensors of the var variable at  time t \n",
    "                mdf = metadata.loc[sdf.index.get_level_values(1).unique()] # metadata about them\n",
    "\n",
    "                dij = mdf['geometry'].apply(lambda x: i['geometry'].distance(x)).sort_values() # nearest measures for (var,t)\n",
    "                dij = dij.loc[(dij.index!=i.name) & (dij>0)][:k] # excluding the sensor i\n",
    "\n",
    "                zj = sdf.loc[idx[:,dij.index,:],:].reset_index([0,2])['Value']\n",
    "                zj.name = var\n",
    "\n",
    "                zj.index = range(0,k)\n",
    "                dij.index = range(0,k)\n",
    "\n",
    "                zk.loc[idx[i.name,t],'d_{}'.format(var)] = dij.values\n",
    "                zk.loc[idx[i.name,t],var] = zj.values\n",
    "                zkj = zk.melt().set_index('variable').T\n",
    "                zkj.index = [t]\n",
    "                zkj['zi'] = i.name\n",
    "                zkj = zkj.reset_index().set_index(['zi','index'])\n",
    "            zx = zx.append(zkj)\n",
    "    zx['day'] = zx.index.get_level_values(1).day\n",
    "    zx['hour'] = zx.index.get_level_values(1).hour\n",
    "    zx['month'] = zx.index.get_level_values(1).month\n",
    "\n",
    "    zx = zx.loc[zi.index]\n",
    "    zi = zi.loc[idx[zx.index.get_level_values(0).unique(),zx.index.get_level_values(1).unique()],:]\n",
    "\n",
    "    return zx, zi"
   ]
  },
  {
   "cell_type": "code",
   "execution_count": null,
   "metadata": {},
   "outputs": [],
   "source": [
    "zx, zi = ingestion(sensors, metadata, variables=['NO2','O3','Humidity'], k=3, target='NO2')\n",
    "print(zx.shape)\n",
    "print(zi.shape)\n",
    "zx.head()"
   ]
  },
  {
   "cell_type": "code",
   "execution_count": null,
   "metadata": {},
   "outputs": [],
   "source": [
    "# to_csv"
   ]
  },
  {
   "cell_type": "markdown",
   "metadata": {},
   "source": [
    "## Regression example"
   ]
  },
  {
   "cell_type": "code",
   "execution_count": 9,
   "metadata": {},
   "outputs": [
    {
     "data": {
      "text/plain": [
       "-0.6539857450423097"
      ]
     },
     "execution_count": 9,
     "metadata": {},
     "output_type": "execute_result"
    }
   ],
   "source": [
    "from sklearn.ensemble import RandomForestRegressor\n",
    "from sklearn.model_selection import RandomizedSearchCV\n",
    "\n",
    "rf = RandomForestRegressor()\n",
    "\n",
    "paramsrf = {\n",
    "    'n_estimators':np.arange(5,100,5),\n",
    "    'max_features':np.arange(0.1, 1.01, 0.05),\n",
    "    'max_depth':np.arange(1,10,1)\n",
    "}\n",
    "grid = RandomizedSearchCV(rf, param_distributions=paramsrf,\n",
    "                    n_iter=500, scoring='r2', n_jobs=-1, cv=5).fit(zx.values, np.ravel(zi.values))\n",
    "grid.best_score_"
   ]
  },
  {
   "cell_type": "markdown",
   "metadata": {},
   "source": [
    "## Feature importance analysis"
   ]
  },
  {
   "cell_type": "code",
   "execution_count": 10,
   "metadata": {},
   "outputs": [
    {
     "data": {
      "text/plain": [
       "<matplotlib.axes._subplots.AxesSubplot at 0x7fc985ae19e8>"
      ]
     },
     "execution_count": 10,
     "metadata": {},
     "output_type": "execute_result"
    },
    {
     "data": {
      "image/png": "[encoded data removed]",
      "text/plain": [
       "<matplotlib.figure.Figure at 0x7fc98ffbe668>"
      ]
     },
     "metadata": {},
     "output_type": "display_data"
    }
   ],
   "source": [
    "import seaborn as sns\n",
    "import matplotlib.pyplot as plt\n",
    "\n",
    "importances = grid.best_estimator_.feature_importances_\n",
    "indices = zx.columns[np.argsort(importances)[::-1]]\n",
    "f = pd.DataFrame(importances, index=indices, columns=['importance']).reset_index().sort_values('importance')\n",
    "\n",
    "plt.figure(figsize=(20,5))\n",
    "sns.barplot(x='variable',y='importance',data=f, palette='Spectral')"
   ]
  }
 ],
 "metadata": {
  "kernelspec": {
   "display_name": "Python 3",
   "language": "python",
   "name": "python3"
  },
  "language_info": {
   "codemirror_mode": {
    "name": "ipython",
    "version": 3
   },
   "file_extension": ".py",
   "mimetype": "text/x-python",
   "name": "python",
   "nbconvert_exporter": "python",
   "pygments_lexer": "ipython3",
   "version": "3.6.5"
  }
 },
 "nbformat": 4,
 "nbformat_minor": 2
}
