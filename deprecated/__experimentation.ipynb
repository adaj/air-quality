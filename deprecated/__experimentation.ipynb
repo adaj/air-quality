{
 "cells": [
  {
   "cell_type": "code",
   "execution_count": 2,
   "metadata": {},
   "outputs": [],
   "source": [
    "from sklearn.ensemble import GradientBoostingRegressor, RandomForestRegressor\n",
    "import pandas as pd\n",
    "import numpy as np"
   ]
  },
  {
   "cell_type": "code",
   "execution_count": 1,
   "metadata": {},
   "outputs": [],
   "source": [
    "class Experimentation(object):\n",
    "    def __init__(self, variables, features_conf, regression_alg):\n",
    "        \n",
    "        self.variables = variables\n",
    "        self.features_conf = features_conf\n",
    "        self.regression_alg = regression_alg\n",
    "        \n",
    "    def fit(self, configuration__, mode):\n",
    "        self.configuration__ = configuration__\n",
    "        # declaring Bee\n",
    "        self.sensors = sb.Sensors(configuration__, mode, path=configuration__['DATA_FOLDER'])\n",
    "        self.geography = sb.Geography(configuration__, mode, self.sensors)\n",
    "        self.features = sb.Features(configuration__, mode, Sensors=self.sensors, Geography=self.geography)\n",
    "        \n",
    "    def initiate(self, iterations, path_to_results):\n",
    "        self.scores = []\n",
    "        for var in self.variables:\n",
    "            for fc in self.features_conf:\n",
    "                for ra in self.regression_alg:\n",
    "                    features = ['dow','day','week']\n",
    "                    f = self.features.get_train_features(var)\n",
    "                    if 'p' in fc:\n",
    "                        features += [var]\n",
    "                    if 'u' in fc:\n",
    "                        features += self.configuration__['osm_line_objs']+self.configuration__['osm_point_objs']\n",
    "                    if 's' in fc:\n",
    "                        features += [x for x in self.configuration__['Sensors__variables'] if x!= var]\n",
    "                    if 'd' in fc:\n",
    "                        features += ['Index of Multiple Deprivation (IMD) Score', 'Income Score (rate)',\n",
    "                                       'Employment Score (rate)', 'Education, Skills and Training Score',\n",
    "                                       'Crime Score', 'Total population: mid 2012 (excluding prisoners)']\n",
    "\n",
    "                    if ra == 'rf':\n",
    "                        regressor = RandomForestRegressor(n_estimators=200, max_depth=5, max_features=1)\n",
    "                    elif ra == 'gb':\n",
    "                        regressor = GradientBoostingRegressor(n_estimators=200, max_depth=5, max_features=1)\n",
    "                    \n",
    "                    r2, mse = [], []\n",
    "                    imps = np.zeros([iterations, f['X'][features].shape[1]])\n",
    "                    for i in range(iterations):\n",
    "                        m = sb.Model(regressor).fit(f['X'][features], f['y'])\n",
    "                        r2.append(m.r2)\n",
    "                        mse.append(m.mse)\n",
    "                        imps[i,:] = m.regressor.feature_importances_\n",
    "                        \n",
    "                    self.scores.append([var, fc, ra, r2, mse, imps, f['X'][features].columns])\n",
    "                    # print('[{} - {} - {}] r2: {} ~ std: {} --- features: {}'.format(var, fc, ra, np.mean(r2), np.std(r2), f['X'][features].columns))\n",
    "        \n",
    "        self.scores = pd.DataFrame(self.scores, columns=['variable','feature_configuration','regressor','r2','mse','f_imp','f_names'])\n",
    "        self.scores.to_csv(path_to_results)\n",
    "        return self                    "
   ]
  },
  {
   "cell_type": "code",
   "execution_count": 3,
   "metadata": {},
   "outputs": [],
   "source": [
    "import sys\n",
    "sys.path.append('/home/adelsondias/Repos/sensingbee/sensingbee')\n",
    "import source as sb\n",
    "\n",
    "configuration__ = {\n",
    "    'DATA_FOLDER':'/home/adelsondias/Repos/newcastle/air-quality/data_6m/',\n",
    "    'SHAPE_PATH':'/home/adelsondias/Repos/newcastle/air-quality/shape/Middle_Layer_Super_Output_Areas_December_2011_Full_Extent_Boundaries_in_England_and_Wales/Middle_Layer_Super_Output_Areas_December_2011_Full_Extent_Boundaries_in_England_and_Wales.shp',\n",
    "    'Sensors__frequency':'D',\n",
    "    'Sensors__variables': ['NO2','Temperature','PM2.5'],\n",
    "    'Sensors__threshold_callibration': {'Temperature':25, 'NO2':80, 'PM2.5':15},\n",
    "    'Geography__filter_column':'msoa11nm',\n",
    "    'Geography__filter_label':'Newcastle upon Tyne',\n",
    "    'Geography__meshgrid':{'dimensions':[50,50], 'longitude_range':[-1.8, -1.51], 'latitude_range':[54.96, 55.05]},\n",
    "    'osm_bbox': '(54.96,-1.8,55.05,-1.51)',\n",
    "    'osm_line_objs': ['primary','trunk','motorway','residential'],\n",
    "    'osm_point_objs': ['traffic_signals','crossing']\n",
    "}"
   ]
  },
  {
   "cell_type": "code",
   "execution_count": 4,
   "metadata": {},
   "outputs": [],
   "source": [
    "e = Experimentation(variables=['NO2','Temperature','PM2.5'], features_conf=['pusd'], regression_alg=['gb','rf'])"
   ]
  },
  {
   "cell_type": "code",
   "execution_count": 5,
   "metadata": {},
   "outputs": [
    {
     "name": "stdout",
     "output_type": "stream",
     "text": [
      "                                            geometry\n",
      "0  POLYGON ((-1.533809831616158 54.97558851156042...\n",
      "        lon    lat                          geometry\n",
      "0 -1.800000  54.96                POINT (-1.8 54.96)\n",
      "1 -1.794082  54.96  POINT (-1.794081632653061 54.96)\n",
      "2 -1.788163  54.96  POINT (-1.788163265306123 54.96)\n",
      "3 -1.782245  54.96  POINT (-1.782244897959184 54.96)\n",
      "4 -1.776327  54.96  POINT (-1.776326530612245 54.96)\n"
     ]
    },
    {
     "data": {
      "text/plain": [
       "<__main__.Experimentation at 0x7efc521885c0>"
      ]
     },
     "execution_count": 5,
     "metadata": {},
     "output_type": "execute_result"
    }
   ],
   "source": [
    "e.fit(configuration__, mode='load')\n",
    "e.initiate(2,path_to_results='experiments/e_6months_rf-gb_pusd_20trials.csv')"
   ]
  },
  {
   "cell_type": "code",
   "execution_count": 6,
   "metadata": {},
   "outputs": [
    {
     "data": {
      "text/html": [
       "<div>\n",
       "<style scoped>\n",
       "    .dataframe tbody tr th:only-of-type {\n",
       "        vertical-align: middle;\n",
       "    }\n",
       "\n",
       "    .dataframe tbody tr th {\n",
       "        vertical-align: top;\n",
       "    }\n",
       "\n",
       "    .dataframe thead th {\n",
       "        text-align: right;\n",
       "    }\n",
       "</style>\n",
       "<table border=\"1\" class=\"dataframe\">\n",
       "  <thead>\n",
       "    <tr style=\"text-align: right;\">\n",
       "      <th></th>\n",
       "      <th>variable</th>\n",
       "      <th>feature_configuration</th>\n",
       "      <th>regressor</th>\n",
       "      <th>r2</th>\n",
       "      <th>mse</th>\n",
       "      <th>f_imp</th>\n",
       "      <th>f_names</th>\n",
       "    </tr>\n",
       "  </thead>\n",
       "  <tbody>\n",
       "    <tr>\n",
       "      <th>0</th>\n",
       "      <td>NO2</td>\n",
       "      <td>pusd</td>\n",
       "      <td>gb</td>\n",
       "      <td>[0.39358354583721095, 0.39774611879480504]</td>\n",
       "      <td>[5792.944681213685, 5737.867902551963]</td>\n",
       "      <td>[[0.0064394621399413, 0.01851254188522914, 0.0...</td>\n",
       "      <td>Index(['dow', 'day', 'week', 'NO2', 'NO2', 'NO...</td>\n",
       "    </tr>\n",
       "    <tr>\n",
       "      <th>1</th>\n",
       "      <td>NO2</td>\n",
       "      <td>pusd</td>\n",
       "      <td>rf</td>\n",
       "      <td>[0.13004172969926084, 0.12832353818939124]</td>\n",
       "      <td>[8320.930037716365, 8326.221765379238]</td>\n",
       "      <td>[[0.004854111150190023, 0.01204555636505898, 0...</td>\n",
       "      <td>Index(['dow', 'day', 'week', 'NO2', 'NO2', 'NO...</td>\n",
       "    </tr>\n",
       "    <tr>\n",
       "      <th>2</th>\n",
       "      <td>Temperature</td>\n",
       "      <td>pusd</td>\n",
       "      <td>gb</td>\n",
       "      <td>[0.9472923039067649, 0.9478184549561377]</td>\n",
       "      <td>[1.5732594119245265, 1.5585473926341435]</td>\n",
       "      <td>[[0.01237697934228039, 0.022765470521155507, 0...</td>\n",
       "      <td>Index(['dow', 'day', 'week', 'Temperature', 'T...</td>\n",
       "    </tr>\n",
       "    <tr>\n",
       "      <th>3</th>\n",
       "      <td>Temperature</td>\n",
       "      <td>pusd</td>\n",
       "      <td>rf</td>\n",
       "      <td>[0.7341444209009077, 0.7339241044659225]</td>\n",
       "      <td>[7.933668370061835, 7.939946632656451]</td>\n",
       "      <td>[[0.002538159270235541, 0.00997530260359711, 0...</td>\n",
       "      <td>Index(['dow', 'day', 'week', 'Temperature', 'T...</td>\n",
       "    </tr>\n",
       "    <tr>\n",
       "      <th>4</th>\n",
       "      <td>PM2.5</td>\n",
       "      <td>pusd</td>\n",
       "      <td>gb</td>\n",
       "      <td>[0.8220424311090653, 0.811494478975411]</td>\n",
       "      <td>[17.633840015791932, 17.89980295439928]</td>\n",
       "      <td>[[0.013355720962655885, 0.02192951150786962, 0...</td>\n",
       "      <td>Index(['dow', 'day', 'week', 'PM2.5', 'PM2.5',...</td>\n",
       "    </tr>\n",
       "    <tr>\n",
       "      <th>5</th>\n",
       "      <td>PM2.5</td>\n",
       "      <td>pusd</td>\n",
       "      <td>rf</td>\n",
       "      <td>[0.6175179960132468, 0.6137965544086292]</td>\n",
       "      <td>[38.039433039712385, 37.858019144617025]</td>\n",
       "      <td>[[0.009699556611950705, 0.013425265532725345, ...</td>\n",
       "      <td>Index(['dow', 'day', 'week', 'PM2.5', 'PM2.5',...</td>\n",
       "    </tr>\n",
       "  </tbody>\n",
       "</table>\n",
       "</div>"
      ],
      "text/plain": [
       "      variable feature_configuration regressor  \\\n",
       "0          NO2                  pusd        gb   \n",
       "1          NO2                  pusd        rf   \n",
       "2  Temperature                  pusd        gb   \n",
       "3  Temperature                  pusd        rf   \n",
       "4        PM2.5                  pusd        gb   \n",
       "5        PM2.5                  pusd        rf   \n",
       "\n",
       "                                           r2  \\\n",
       "0  [0.39358354583721095, 0.39774611879480504]   \n",
       "1  [0.13004172969926084, 0.12832353818939124]   \n",
       "2    [0.9472923039067649, 0.9478184549561377]   \n",
       "3    [0.7341444209009077, 0.7339241044659225]   \n",
       "4     [0.8220424311090653, 0.811494478975411]   \n",
       "5    [0.6175179960132468, 0.6137965544086292]   \n",
       "\n",
       "                                        mse  \\\n",
       "0    [5792.944681213685, 5737.867902551963]   \n",
       "1    [8320.930037716365, 8326.221765379238]   \n",
       "2  [1.5732594119245265, 1.5585473926341435]   \n",
       "3    [7.933668370061835, 7.939946632656451]   \n",
       "4   [17.633840015791932, 17.89980295439928]   \n",
       "5  [38.039433039712385, 37.858019144617025]   \n",
       "\n",
       "                                               f_imp  \\\n",
       "0  [[0.0064394621399413, 0.01851254188522914, 0.0...   \n",
       "1  [[0.004854111150190023, 0.01204555636505898, 0...   \n",
       "2  [[0.01237697934228039, 0.022765470521155507, 0...   \n",
       "3  [[0.002538159270235541, 0.00997530260359711, 0...   \n",
       "4  [[0.013355720962655885, 0.02192951150786962, 0...   \n",
       "5  [[0.009699556611950705, 0.013425265532725345, ...   \n",
       "\n",
       "                                             f_names  \n",
       "0  Index(['dow', 'day', 'week', 'NO2', 'NO2', 'NO...  \n",
       "1  Index(['dow', 'day', 'week', 'NO2', 'NO2', 'NO...  \n",
       "2  Index(['dow', 'day', 'week', 'Temperature', 'T...  \n",
       "3  Index(['dow', 'day', 'week', 'Temperature', 'T...  \n",
       "4  Index(['dow', 'day', 'week', 'PM2.5', 'PM2.5',...  \n",
       "5  Index(['dow', 'day', 'week', 'PM2.5', 'PM2.5',...  "
      ]
     },
     "execution_count": 6,
     "metadata": {},
     "output_type": "execute_result"
    }
   ],
   "source": [
    "e.scores"
   ]
  },
  {
   "cell_type": "code",
   "execution_count": 8,
   "metadata": {},
   "outputs": [
    {
     "data": {
      "image/png": "[encoded data removed]",
      "text/plain": [
       "<matplotlib.figure.Figure at 0x7efc50263748>"
      ]
     },
     "metadata": {
      "needs_background": "light"
     },
     "output_type": "display_data"
    }
   ],
   "source": [
    "x = e.scores.loc[4,'f_imp'][0]\n",
    "y = e.scores.loc[4,'f_names']\n",
    "\n",
    "import matplotlib.pyplot as plt\n",
    "import seaborn as sns\n",
    "fig, ax = plt.subplots(figsize=(10,7))\n",
    "sns.barplot(x=x,y=y, ax=ax, palette='Blues');"
   ]
  }
 ],
 "metadata": {
  "kernelspec": {
   "display_name": "Python 3",
   "language": "python",
   "name": "python3"
  },
  "language_info": {
   "codemirror_mode": {
    "name": "ipython",
    "version": 3
   },
   "file_extension": ".py",
   "mimetype": "text/x-python",
   "name": "python",
   "nbconvert_exporter": "python",
   "pygments_lexer": "ipython3",
   "version": "3.6.5"
  }
 },
 "nbformat": 4,
 "nbformat_minor": 2
}
